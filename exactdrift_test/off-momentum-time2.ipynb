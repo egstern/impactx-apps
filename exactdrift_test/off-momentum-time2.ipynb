{
 "cells": [
  {
   "cell_type": "markdown",
   "id": "ec2af51c-cd9a-45c5-963b-d66f67360dfd",
   "metadata": {},
   "source": [
    "# Off momentum drift time problem"
   ]
  },
  {
   "cell_type": "markdown",
   "id": "1b038cff-001d-4fe7-8cef-52c66d4dd7d8",
   "metadata": {},
   "source": [
    "In this simulation of a propagation through a 1 m drift, particle #2 has a $p_t$ of $10^{-2}$.|"
   ]
  },
  {
   "cell_type": "markdown",
   "id": "decec411-eb77-44c0-95ad-1286199f640c",
   "metadata": {},
   "source": [
    "The calculation of $\\beta$ based on $p_t$:"
   ]
  },
  {
   "cell_type": "markdown",
   "id": "5cf83ae4-29c1-49ff-ad78-4837c4860189",
   "metadata": {},
   "source": [
    "$$ p_t = -\\frac{\\Delta E}{p_0}$$\n",
    "$$ p_t = - \\frac{E - E_0}{p_0} $$\n",
    "$$ p_t = - \\frac{m \\gamma - m \\gamma_0}{m \\beta_0 \\gamma_0} $$"
   ]
  },
  {
   "cell_type": "markdown",
   "id": "fee5bd63-1d74-45eb-ba08-7735f36d9160",
   "metadata": {},
   "source": [
    "Resulting in:\n",
    "$$ \\gamma = - \\beta_0 \\gamma_0 p_t + \\gamma_0 $$"
   ]
  },
  {
   "cell_type": "markdown",
   "id": "f6358fd5-2ee1-4a1c-91b5-597cc2e6cc3e",
   "metadata": {},
   "source": [
    "For a proton with kinetic energy of $0.8\\,\\rm{G}eV$ with $p_t$ of $10^{-2}$ traversing 1 m"
   ]
  },
  {
   "cell_type": "code",
   "execution_count": 6,
   "id": "d6d924b5-ac6d-4d55-87ee-d38902511f3a",
   "metadata": {},
   "outputs": [],
   "source": [
    "from scipy.constants import proton_mass as mp_kg, speed_of_light as c, elementary_charge as qe\n",
    "from numpy import sqrt"
   ]
  },
  {
   "cell_type": "code",
   "execution_count": 14,
   "id": "5204c6f2-6409-4b52-b94c-206f2f575d9d",
   "metadata": {},
   "outputs": [
    {
     "name": "stdout",
     "output_type": "stream",
     "text": [
      "proton mass:  0.9382720894282575 GeV\n"
     ]
    }
   ],
   "source": [
    "mp_gev = mp_kg * c**2 * 1.0e-9/qe\n",
    "print('proton mass: ', mp_gev, 'GeV')"
   ]
  },
  {
   "cell_type": "code",
   "execution_count": 17,
   "id": "b08cd8b5-5df9-46f0-b880-4d4cf767b5d7",
   "metadata": {},
   "outputs": [
    {
     "name": "stdout",
     "output_type": "stream",
     "text": [
      "gamma_0:  1.8526311781434015\n",
      "betagamma_0:  1.5595647733354994\n",
      "beta_0:  0.8418107131816728\n",
      "gamma_0**2(1 - beta_0**2) - 1:  2.220446049250313e-16\n",
      "gamma_0**2 - beta_gamma_0**2 - 1:  0.0\n"
     ]
    }
   ],
   "source": [
    "# extract kinematic quantities from saved particle data\n",
    "import openpmd_api as io\n",
    "series = io.Series(\"diags/openPMD/monitor.h5\", io.Access.read_only)\n",
    "beam = series.iterations[1].particles['beam']\n",
    "gamma0 = beam.get_attribute('gamma_ref')\n",
    "betagamma0 = beam.get_attribute('beta_gamma_ref')\n",
    "beta0 = beam.get_attribute('beta_ref')\n",
    "print('gamma_0: ', gamma0)\n",
    "print('betagamma_0: ', betagamma0)\n",
    "print('beta_0: ', beta0)\n",
    "print('gamma_0**2(1 - beta_0**2) - 1: ', gamma0**2 * (1 - beta0**2) - 1)\n",
    "print('gamma_0**2 - beta_gamma_0**2 - 1: ', gamma0**2 - betagamma_0**2 - 1)\n"
   ]
  },
  {
   "cell_type": "code",
   "execution_count": 8,
   "id": "7636d5ee-d44b-4132-a9b7-f1de800ad608",
   "metadata": {},
   "outputs": [
    {
     "name": "stdout",
     "output_type": "stream",
     "text": [
      "gamma:  1.8370355304100465\n",
      "betagamma:  1.5410060155589662\n",
      "beta:  0.838854769028336\n"
     ]
    }
   ],
   "source": [
    "# Calculate quantities at pt of 1.0e-2\n",
    "pt = 1.0e-2\n",
    "gamma = - beta0*gamma0*pt + gamma0\n",
    "betagamma = sqrt(gamma**2 - 1)\n",
    "beta = betagamma/gamma\n",
    "print('gamma: ', gamma)\n",
    "print('betagamma: ', betagamma)\n",
    "print('beta: ', beta)"
   ]
  },
  {
   "cell_type": "markdown",
   "id": "63e2aea9-2e18-4307-a78c-55d92d680aac",
   "metadata": {},
   "source": [
    "Calculate what $t$ should be for a particle"
   ]
  },
  {
   "cell_type": "code",
   "execution_count": 9,
   "id": "f82ffa3a-1d0e-4050-835b-d9e1b1085420",
   "metadata": {},
   "outputs": [
    {
     "name": "stdout",
     "output_type": "stream",
     "text": [
      "t0 for reference particle:  1.1879155068250933\n",
      "t1 for particle with pt=1.0e-2:  1.1921014660956415\n",
      "t1 - t0:  0.004185959270548212\n"
     ]
    }
   ],
   "source": [
    "L = 1 # 1 meter\n",
    "t0 = L/beta0\n",
    "t1 = L/beta\n",
    "t = t1 - t0\n",
    "print('t0 for reference particle: ', t0)\n",
    "print('t1 for particle with pt=1.0e-2: ', t1)\n",
    "print('t1 - t0: ', t)"
   ]
  },
  {
   "cell_type": "markdown",
   "id": "58c240e2-edbd-4077-8879-ee3d63523813",
   "metadata": {},
   "source": [
    "### Get results from simulation"
   ]
  },
  {
   "cell_type": "code",
   "execution_count": 10,
   "id": "b422362f-746f-42ca-a1dd-2aebb32731aa",
   "metadata": {},
   "outputs": [],
   "source": [
    "import openpmd_api as io"
   ]
  },
  {
   "cell_type": "code",
   "execution_count": 11,
   "id": "d079a3b6-c333-42fe-bfdc-daf4be38c4f7",
   "metadata": {},
   "outputs": [],
   "source": [
    "series = io.Series(\"diags/openPMD/monitor.h5\", io.Access.read_only)\n",
    "iterations = list(series.iterations)\n",
    "iter0 = series.iterations[iterations[0]]\n",
    "iter1 = series.iterations[iterations[-1]]"
   ]
  },
  {
   "cell_type": "code",
   "execution_count": 12,
   "id": "149bfad6-713f-4cf5-9202-fca802b65c8d",
   "metadata": {},
   "outputs": [],
   "source": [
    "beam_i = iter0.particles['beam'].to_df() # initial beam\n",
    "x_i = beam_i['position_x']\n",
    "y_i = beam_i['position_y']\n",
    "t_i = beam_i['position_t']\n",
    "px_i = beam_i['momentum_x']\n",
    "py_i = beam_i['momentum_y']\n",
    "pt_i = beam_i['momentum_t']"
   ]
  },
  {
   "cell_type": "code",
   "execution_count": 13,
   "id": "48b6746e-e14d-4d4f-8f2a-da5239b0f87f",
   "metadata": {},
   "outputs": [],
   "source": [
    "beam_f = iter1.particles['beam'].to_df()\n",
    "x_f = beam_f['position_x']\n",
    "y_f = beam_f['position_y']\n",
    "t_f = beam_f['position_t']\n",
    "px_f = beam_f['momentum_x']\n",
    "py_f = beam_f['momentum_y']\n",
    "pt_f = beam_f['momentum_t']"
   ]
  },
  {
   "cell_type": "code",
   "execution_count": 14,
   "id": "a2751b91-8da5-4c74-b4cb-417fe711fa5a",
   "metadata": {},
   "outputs": [
    {
     "name": "stdout",
     "output_type": "stream",
     "text": [
      "particle 2 initial coordinates:\n",
      "0.0 0.0 0.0 0.0 0.0 0.01\n"
     ]
    }
   ],
   "source": [
    "print('particle 2 initial coordinates:')\n",
    "print(x_i[2], y_i[2], t_i[2], px_i[2], py_i[2], pt_i[2])"
   ]
  },
  {
   "cell_type": "code",
   "execution_count": 15,
   "id": "720e9815-dd6e-4964-a6ff-7542e2054b0b",
   "metadata": {},
   "outputs": [
    {
     "name": "stdout",
     "output_type": "stream",
     "text": [
      "particle 2 final coordinates:\n",
      "0.0 0.0 0.00418595927054799 0.0 0.0 0.01\n"
     ]
    }
   ],
   "source": [
    "print('particle 2 final coordinates:')\n",
    "print(x_f[2], y_f[2], t_f[2], px_f[2], py_f[2], pt_f[2])"
   ]
  },
  {
   "cell_type": "code",
   "execution_count": 16,
   "id": "28ec7379-4fd7-4765-8d07-3fc9e13f6ee3",
   "metadata": {},
   "outputs": [
    {
     "data": {
      "text/plain": [
       "np.float64(5.306866057708248e-14)"
      ]
     },
     "execution_count": 16,
     "metadata": {},
     "output_type": "execute_result"
    }
   ],
   "source": [
    "# Relative difference between calculation and propagation:\n",
    "(t1 - t0)/t_f[2] - 1"
   ]
  },
  {
   "cell_type": "code",
   "execution_count": null,
   "id": "a223c816-57ae-4e26-91cd-38428ba7342a",
   "metadata": {},
   "outputs": [],
   "source": []
  },
  {
   "cell_type": "code",
   "execution_count": null,
   "id": "db0c82a1-c857-4f7e-9c98-edbb7a63b033",
   "metadata": {},
   "outputs": [],
   "source": []
  }
 ],
 "metadata": {
  "kernelspec": {
   "display_name": "Python 3 (ipykernel)",
   "language": "python",
   "name": "python3"
  },
  "language_info": {
   "codemirror_mode": {
    "name": "ipython",
    "version": 3
   },
   "file_extension": ".py",
   "mimetype": "text/x-python",
   "name": "python",
   "nbconvert_exporter": "python",
   "pygments_lexer": "ipython3",
   "version": "3.13.2"
  }
 },
 "nbformat": 4,
 "nbformat_minor": 5
}
