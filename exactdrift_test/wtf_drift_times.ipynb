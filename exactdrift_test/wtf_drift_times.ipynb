{
 "cells": [
  {
   "cell_type": "code",
   "execution_count": 25,
   "id": "fcdbdeac-71fc-44c5-8e64-1b18b2df4bc7",
   "metadata": {},
   "outputs": [],
   "source": [
    "import numpy as np\n",
    "import openpmd_api as io\n",
    "from scipy.stats import moment\n",
    "from scipy import constants"
   ]
  },
  {
   "cell_type": "code",
   "execution_count": 2,
   "id": "7766a824-5990-4f11-8a55-7738290b9962",
   "metadata": {},
   "outputs": [],
   "source": [
    "series = io.Series(\"diags/openPMD/monitor.h5\", io.Access.read_only)"
   ]
  },
  {
   "cell_type": "code",
   "execution_count": 3,
   "id": "91544c1c-af8e-4b0b-b2d8-3bb8491e65e9",
   "metadata": {},
   "outputs": [],
   "source": [
    "iter0 = series.iterations[1]"
   ]
  },
  {
   "cell_type": "code",
   "execution_count": 8,
   "id": "5eddbf94-2c1c-4e6f-aad7-c47b09b66aa3",
   "metadata": {},
   "outputs": [
    {
     "data": {
      "text/plain": [
       "<openPMD.Iteration at t = '0.000000e+00 s' with 3 attributes>"
      ]
     },
     "execution_count": 8,
     "metadata": {},
     "output_type": "execute_result"
    }
   ],
   "source": [
    "iter0"
   ]
  },
  {
   "cell_type": "code",
   "execution_count": 18,
   "id": "b36e237a-d2eb-42d2-a86a-f58102b285ec",
   "metadata": {},
   "outputs": [
    {
     "data": {
      "text/plain": [
       "['__bool__',\n",
       " '__class__',\n",
       " '__delattr__',\n",
       " '__delitem__',\n",
       " '__dir__',\n",
       " '__doc__',\n",
       " '__eq__',\n",
       " '__format__',\n",
       " '__ge__',\n",
       " '__getattribute__',\n",
       " '__getitem__',\n",
       " '__getstate__',\n",
       " '__gt__',\n",
       " '__hash__',\n",
       " '__init__',\n",
       " '__init_subclass__',\n",
       " '__iter__',\n",
       " '__le__',\n",
       " '__len__',\n",
       " '__lt__',\n",
       " '__module__',\n",
       " '__ne__',\n",
       " '__new__',\n",
       " '__pybind11_module_local_v5_gcc_libstdcpp_cxxabi1018__',\n",
       " '__reduce__',\n",
       " '__reduce_ex__',\n",
       " '__repr__',\n",
       " '__setattr__',\n",
       " '__setitem__',\n",
       " '__sizeof__',\n",
       " '__str__',\n",
       " '__subclasshook__',\n",
       " '_ipython_key_completions_',\n",
       " '_pybind11_conduit_v1_',\n",
       " 'attribute_dtypes',\n",
       " 'attributes',\n",
       " 'comment',\n",
       " 'contains_attribute',\n",
       " 'delete_attribute',\n",
       " 'get_attribute',\n",
       " 'items',\n",
       " 'iteration_flush',\n",
       " 'my_path',\n",
       " 'series_flush',\n",
       " 'set_attribute',\n",
       " 'set_comment']"
      ]
     },
     "execution_count": 18,
     "metadata": {},
     "output_type": "execute_result"
    }
   ],
   "source": [
    "dir(iter0.particles)"
   ]
  },
  {
   "cell_type": "code",
   "execution_count": 20,
   "id": "845e3c51-c40a-4a38-93ff-17e35a783824",
   "metadata": {},
   "outputs": [
    {
     "data": {
      "text/plain": [
       "[('beam', <openPMD.ParticleSpecies with 6 record(s) and 55 attribute(s)>)]"
      ]
     },
     "execution_count": 20,
     "metadata": {},
     "output_type": "execute_result"
    }
   ],
   "source": [
    "list(iter0.particles.items())"
   ]
  },
  {
   "cell_type": "code",
   "execution_count": 22,
   "id": "038747b3-77e7-43c7-a55f-fd3fe6d63dd4",
   "metadata": {},
   "outputs": [
    {
     "data": {
      "text/plain": [
       "['alpha_t',\n",
       " 'alpha_x',\n",
       " 'alpha_y',\n",
       " 'beta_gamma_ref',\n",
       " 'beta_ref',\n",
       " 'beta_t',\n",
       " 'beta_x',\n",
       " 'beta_y',\n",
       " 'charge_C',\n",
       " 'charge_ref',\n",
       " 'dispersion_px',\n",
       " 'dispersion_py',\n",
       " 'dispersion_x',\n",
       " 'dispersion_y',\n",
       " 'emittance_t',\n",
       " 'emittance_tn',\n",
       " 'emittance_x',\n",
       " 'emittance_xn',\n",
       " 'emittance_y',\n",
       " 'emittance_yn',\n",
       " 'gamma_ref',\n",
       " 'mass_ref',\n",
       " 'pt_max',\n",
       " 'pt_mean',\n",
       " 'pt_min',\n",
       " 'pt_ref',\n",
       " 'px_max',\n",
       " 'px_mean',\n",
       " 'px_min',\n",
       " 'px_ref',\n",
       " 'py_max',\n",
       " 'py_mean',\n",
       " 'py_min',\n",
       " 'py_ref',\n",
       " 'pz_ref',\n",
       " 's_ref',\n",
       " 'sig_pt',\n",
       " 'sig_px',\n",
       " 'sig_py',\n",
       " 'sig_t',\n",
       " 'sig_x',\n",
       " 'sig_y',\n",
       " 't_max',\n",
       " 't_mean',\n",
       " 't_min',\n",
       " 't_ref',\n",
       " 'x_max',\n",
       " 'x_mean',\n",
       " 'x_min',\n",
       " 'x_ref',\n",
       " 'y_max',\n",
       " 'y_mean',\n",
       " 'y_min',\n",
       " 'y_ref',\n",
       " 'z_ref']"
      ]
     },
     "execution_count": 22,
     "metadata": {},
     "output_type": "execute_result"
    }
   ],
   "source": [
    "iter0.particles['beam'].attributes"
   ]
  },
  {
   "cell_type": "code",
   "execution_count": 24,
   "id": "09f4c69a-689e-47e4-b69d-49f639e149b6",
   "metadata": {},
   "outputs": [
    {
     "data": {
      "text/plain": [
       "1.672621848532099e-27"
      ]
     },
     "execution_count": 24,
     "metadata": {},
     "output_type": "execute_result"
    }
   ],
   "source": [
    "iter0.particles['beam'].get_attribute('mass_ref')"
   ]
  },
  {
   "cell_type": "code",
   "execution_count": 33,
   "id": "0ac05090-f92c-492a-8b77-db5234687350",
   "metadata": {},
   "outputs": [
    {
     "name": "stdout",
     "output_type": "stream",
     "text": [
      "1.67262192595e-27\n"
     ]
    }
   ],
   "source": [
    "mp = constants.proton_mass\n",
    "print(mp)\n",
    "qe = constants.elementary_charge\n",
    "c = constants.speed_of_light"
   ]
  },
  {
   "cell_type": "code",
   "execution_count": 34,
   "id": "ce931546-2446-4240-a6a2-cf5ee9c1da6e",
   "metadata": {},
   "outputs": [
    {
     "name": "stdout",
     "output_type": "stream",
     "text": [
      "mpgev:  0.9382720894282575\n"
     ]
    }
   ],
   "source": [
    "mpgev = mp * c**2 * 1.0e-9/qe\n",
    "print('mpgev: ', mpgev)"
   ]
  },
  {
   "cell_type": "code",
   "execution_count": 35,
   "id": "4457df23-c6a1-45c1-9e57-d1dacfebb81b",
   "metadata": {},
   "outputs": [
    {
     "name": "stdout",
     "output_type": "stream",
     "text": [
      "initial gamma:  1.8526311386790644\n",
      "initial beta:  0.8418107058090251\n"
     ]
    }
   ],
   "source": [
    "einit = 0.8+mpgev\n",
    "ginit = einit/mpgev\n",
    "bginit = np.sqrt(ginit**2 - 1)\n",
    "binit = bginit/ginit\n",
    "print('initial gamma: ', ginit)\n",
    "print('initial beta: ', binit)"
   ]
  },
  {
   "cell_type": "code",
   "execution_count": 37,
   "id": "0ffbff3d-af70-459c-beda-b0bba5ef0f65",
   "metadata": {},
   "outputs": [
    {
     "name": "stdout",
     "output_type": "stream",
     "text": [
      "ratio binit/beta_ref:  0.9999999912419174\n"
     ]
    }
   ],
   "source": [
    "print('ratio binit/beta_ref: ', binit/iter0.particles['beam'].get_attribute('beta_ref'))"
   ]
  },
  {
   "cell_type": "code",
   "execution_count": 41,
   "id": "541aa7a8-5c1c-446c-b1dd-054fa9aa6829",
   "metadata": {},
   "outputs": [
    {
     "name": "stdout",
     "output_type": "stream",
     "text": [
      "gamma new:  1.8682268258767565\n",
      "betagamma new:  1.5780594009496411\n",
      "beta new:  0.8446829791179451\n"
     ]
    }
   ],
   "source": [
    "L = 1.0\n",
    "beta_orig = iter0.particles['beam'].get_attribute('beta_ref')\n",
    "betagamma_orig = iter0.particles['beam'].get_attribute('beta_gamma_ref')\n",
    "gamma_orig = iter0.particles['beam'].get_attribute('gamma_ref')\n",
    "pt_orig = 0\n",
    "pt_new = 1.0e-2\n",
    "e_orig = pt_orig * mp * betagamma_orig + mp * gamma_orig\n",
    "e_new = pt_new * mp * betagamma_orig + mp * gamma_orig\n",
    "g_new = e_new/mp\n",
    "bg_new = np.sqrt(g_new**2 - 1)\n",
    "b_new = bg_new/g_new\n",
    "print('gamma new: ', g_new)\n",
    "print('betagamma new: ', bg_new)\n",
    "print('beta new: ', b_new)\n"
   ]
  },
  {
   "cell_type": "markdown",
   "id": "97b5f1dd-3d77-4bef-ba1f-161f0cad1ebe",
   "metadata": {},
   "source": [
    "$$ Pt_{\\sf new}  = 10^{-2} $$\n",
    "$$ Pt_{\\sf new} $$ "
   ]
  },
  {
   "cell_type": "code",
   "execution_count": 46,
   "id": "4d1e7d0d-d267-456c-af69-83b5b2c9022d",
   "metadata": {},
   "outputs": [
    {
     "name": "stdout",
     "output_type": "stream",
     "text": [
      "ct_orig:  1.1879155068250933\n",
      "ct_new:  1.183876110590323\n",
      "ct_diff:  -0.004039396234770232\n"
     ]
    }
   ],
   "source": [
    "ct_orig = L/beta_orig\n",
    "ct_new = L/b_new\n",
    "ct_diff = ct_new - ct_orig\n",
    "print('ct_orig: ', ct_orig)\n",
    "print('ct_new: ', ct_new)\n",
    "print('ct_diff: ', ct_diff)"
   ]
  },
  {
   "cell_type": "code",
   "execution_count": 47,
   "id": "abd26bbe-a20d-40d0-b35d-ee5435d9b096",
   "metadata": {},
   "outputs": [
    {
     "data": {
      "text/plain": [
       "<openPMD.Iteration_Container with 2 entries and 0 attribute(s)>"
      ]
     },
     "execution_count": 47,
     "metadata": {},
     "output_type": "execute_result"
    }
   ],
   "source": [
    "series.iterations"
   ]
  },
  {
   "cell_type": "code",
   "execution_count": 49,
   "id": "f02d333b-e09b-4e53-a1dc-fb5781cb8bc1",
   "metadata": {},
   "outputs": [
    {
     "data": {
      "text/plain": [
       "['__bool__',\n",
       " '__class__',\n",
       " '__delattr__',\n",
       " '__delitem__',\n",
       " '__dir__',\n",
       " '__doc__',\n",
       " '__eq__',\n",
       " '__format__',\n",
       " '__ge__',\n",
       " '__getattribute__',\n",
       " '__getitem__',\n",
       " '__getstate__',\n",
       " '__gt__',\n",
       " '__hash__',\n",
       " '__init__',\n",
       " '__init_subclass__',\n",
       " '__iter__',\n",
       " '__le__',\n",
       " '__len__',\n",
       " '__lt__',\n",
       " '__module__',\n",
       " '__ne__',\n",
       " '__new__',\n",
       " '__pybind11_module_local_v5_gcc_libstdcpp_cxxabi1018__',\n",
       " '__reduce__',\n",
       " '__reduce_ex__',\n",
       " '__repr__',\n",
       " '__setattr__',\n",
       " '__setitem__',\n",
       " '__sizeof__',\n",
       " '__str__',\n",
       " '__subclasshook__',\n",
       " '_ipython_key_completions_',\n",
       " '_pybind11_conduit_v1_',\n",
       " 'attribute_dtypes',\n",
       " 'attributes',\n",
       " 'comment',\n",
       " 'contains_attribute',\n",
       " 'delete_attribute',\n",
       " 'get_attribute',\n",
       " 'items',\n",
       " 'iteration_flush',\n",
       " 'my_path',\n",
       " 'series_flush',\n",
       " 'set_attribute',\n",
       " 'set_comment']"
      ]
     },
     "execution_count": 49,
     "metadata": {},
     "output_type": "execute_result"
    }
   ],
   "source": [
    "dir(series.iterations)"
   ]
  },
  {
   "cell_type": "code",
   "execution_count": 51,
   "id": "c9dd3ecc-7a61-4f77-8b6e-82ea67fe3f4e",
   "metadata": {},
   "outputs": [
    {
     "data": {
      "text/plain": [
       "[(1, <openPMD.Iteration at t = '0.000000e+00 s' with 3 attributes>),\n",
       " (3, <openPMD.Iteration at t = '1.000000e+00 s' with 3 attributes>)]"
      ]
     },
     "execution_count": 51,
     "metadata": {},
     "output_type": "execute_result"
    }
   ],
   "source": [
    "list(series.iterations.items())"
   ]
  },
  {
   "cell_type": "code",
   "execution_count": 52,
   "id": "add1ba6e-df72-4031-a152-1384cb0437c7",
   "metadata": {},
   "outputs": [
    {
     "ename": "AttributeError",
     "evalue": "'openpmd_api.openpmd_api_cxx.Iteration_Container' object has no attribute 'keys'",
     "output_type": "error",
     "traceback": [
      "\u001b[31m---------------------------------------------------------------------------\u001b[39m",
      "\u001b[31mAttributeError\u001b[39m                            Traceback (most recent call last)",
      "\u001b[36mCell\u001b[39m\u001b[36m \u001b[39m\u001b[32mIn[52]\u001b[39m\u001b[32m, line 1\u001b[39m\n\u001b[32m----> \u001b[39m\u001b[32m1\u001b[39m \u001b[43mseries\u001b[49m\u001b[43m.\u001b[49m\u001b[43miterations\u001b[49m\u001b[43m.\u001b[49m\u001b[43mkeys\u001b[49m()\n",
      "\u001b[31mAttributeError\u001b[39m: 'openpmd_api.openpmd_api_cxx.Iteration_Container' object has no attribute 'keys'"
     ]
    }
   ],
   "source": [
    "series.iterations.keys()"
   ]
  },
  {
   "cell_type": "code",
   "execution_count": 54,
   "id": "32c9afd3-f471-4b6b-a6f0-e8b54a3bd484",
   "metadata": {},
   "outputs": [
    {
     "data": {
      "text/plain": [
       "[]"
      ]
     },
     "execution_count": 54,
     "metadata": {},
     "output_type": "execute_result"
    }
   ],
   "source": [
    "series.iterations"
   ]
  },
  {
   "cell_type": "code",
   "execution_count": 55,
   "id": "203841a9-97b2-4acc-a53f-af79a3d958f8",
   "metadata": {},
   "outputs": [
    {
     "data": {
      "text/plain": [
       "<openPMD.Iteration at t = '1.000000e+00 s' with 3 attributes>"
      ]
     },
     "execution_count": 55,
     "metadata": {},
     "output_type": "execute_result"
    }
   ],
   "source": [
    "series.iterations[3]"
   ]
  },
  {
   "cell_type": "code",
   "execution_count": 58,
   "id": "6940a17f-7f25-464c-8aad-033d52415a08",
   "metadata": {},
   "outputs": [
    {
     "data": {
      "text/html": [
       "<div>\n",
       "<style scoped>\n",
       "    .dataframe tbody tr th:only-of-type {\n",
       "        vertical-align: middle;\n",
       "    }\n",
       "\n",
       "    .dataframe tbody tr th {\n",
       "        vertical-align: top;\n",
       "    }\n",
       "\n",
       "    .dataframe thead th {\n",
       "        text-align: right;\n",
       "    }\n",
       "</style>\n",
       "<table border=\"1\" class=\"dataframe\">\n",
       "  <thead>\n",
       "    <tr style=\"text-align: right;\">\n",
       "      <th></th>\n",
       "      <th>id</th>\n",
       "      <th>momentum_t</th>\n",
       "      <th>momentum_x</th>\n",
       "      <th>momentum_y</th>\n",
       "      <th>position_t</th>\n",
       "      <th>position_x</th>\n",
       "      <th>position_y</th>\n",
       "      <th>positionOffset_t</th>\n",
       "      <th>positionOffset_x</th>\n",
       "      <th>positionOffset_y</th>\n",
       "      <th>qm</th>\n",
       "      <th>weighting</th>\n",
       "    </tr>\n",
       "    <tr>\n",
       "      <th>row</th>\n",
       "      <th></th>\n",
       "      <th></th>\n",
       "      <th></th>\n",
       "      <th></th>\n",
       "      <th></th>\n",
       "      <th></th>\n",
       "      <th></th>\n",
       "      <th></th>\n",
       "      <th></th>\n",
       "      <th></th>\n",
       "      <th></th>\n",
       "      <th></th>\n",
       "    </tr>\n",
       "  </thead>\n",
       "  <tbody>\n",
       "    <tr>\n",
       "      <th>0</th>\n",
       "      <td>9223372036871553024</td>\n",
       "      <td>0.00</td>\n",
       "      <td>0.000</td>\n",
       "      <td>0.000</td>\n",
       "      <td>0.000000</td>\n",
       "      <td>0.000000</td>\n",
       "      <td>0.000000</td>\n",
       "      <td>1.187916</td>\n",
       "      <td>0.0</td>\n",
       "      <td>0.0</td>\n",
       "      <td>1.065789e-09</td>\n",
       "      <td>5.201258e+27</td>\n",
       "    </tr>\n",
       "    <tr>\n",
       "      <th>1</th>\n",
       "      <td>9223372036888330240</td>\n",
       "      <td>0.00</td>\n",
       "      <td>0.002</td>\n",
       "      <td>0.000</td>\n",
       "      <td>0.000002</td>\n",
       "      <td>0.001000</td>\n",
       "      <td>0.000000</td>\n",
       "      <td>1.187916</td>\n",
       "      <td>0.0</td>\n",
       "      <td>0.0</td>\n",
       "      <td>1.065789e-09</td>\n",
       "      <td>5.201258e+27</td>\n",
       "    </tr>\n",
       "    <tr>\n",
       "      <th>2</th>\n",
       "      <td>9223372036905107456</td>\n",
       "      <td>0.01</td>\n",
       "      <td>0.000</td>\n",
       "      <td>0.000</td>\n",
       "      <td>0.004186</td>\n",
       "      <td>0.000000</td>\n",
       "      <td>0.000000</td>\n",
       "      <td>1.187916</td>\n",
       "      <td>0.0</td>\n",
       "      <td>0.0</td>\n",
       "      <td>1.065789e-09</td>\n",
       "      <td>5.201258e+27</td>\n",
       "    </tr>\n",
       "    <tr>\n",
       "      <th>3</th>\n",
       "      <td>9223372036921884672</td>\n",
       "      <td>0.01</td>\n",
       "      <td>0.000</td>\n",
       "      <td>0.002</td>\n",
       "      <td>0.004188</td>\n",
       "      <td>0.000000</td>\n",
       "      <td>0.001024</td>\n",
       "      <td>1.187916</td>\n",
       "      <td>0.0</td>\n",
       "      <td>0.0</td>\n",
       "      <td>1.065789e-09</td>\n",
       "      <td>5.201258e+27</td>\n",
       "    </tr>\n",
       "    <tr>\n",
       "      <th>4</th>\n",
       "      <td>9223372036938661888</td>\n",
       "      <td>-0.01</td>\n",
       "      <td>0.000</td>\n",
       "      <td>0.000</td>\n",
       "      <td>-0.004039</td>\n",
       "      <td>0.000000</td>\n",
       "      <td>0.000000</td>\n",
       "      <td>1.187916</td>\n",
       "      <td>0.0</td>\n",
       "      <td>0.0</td>\n",
       "      <td>1.065789e-09</td>\n",
       "      <td>5.201258e+27</td>\n",
       "    </tr>\n",
       "    <tr>\n",
       "      <th>5</th>\n",
       "      <td>9223372036955439104</td>\n",
       "      <td>-0.01</td>\n",
       "      <td>-0.002</td>\n",
       "      <td>0.000</td>\n",
       "      <td>-0.004037</td>\n",
       "      <td>-0.000977</td>\n",
       "      <td>0.000000</td>\n",
       "      <td>1.187916</td>\n",
       "      <td>0.0</td>\n",
       "      <td>0.0</td>\n",
       "      <td>1.065789e-09</td>\n",
       "      <td>5.201258e+27</td>\n",
       "    </tr>\n",
       "  </tbody>\n",
       "</table>\n",
       "</div>"
      ],
      "text/plain": [
       "                      id  momentum_t  momentum_x  momentum_y  position_t  \\\n",
       "row                                                                        \n",
       "0    9223372036871553024        0.00       0.000       0.000    0.000000   \n",
       "1    9223372036888330240        0.00       0.002       0.000    0.000002   \n",
       "2    9223372036905107456        0.01       0.000       0.000    0.004186   \n",
       "3    9223372036921884672        0.01       0.000       0.002    0.004188   \n",
       "4    9223372036938661888       -0.01       0.000       0.000   -0.004039   \n",
       "5    9223372036955439104       -0.01      -0.002       0.000   -0.004037   \n",
       "\n",
       "     position_x  position_y  positionOffset_t  positionOffset_x  \\\n",
       "row                                                               \n",
       "0      0.000000    0.000000          1.187916               0.0   \n",
       "1      0.001000    0.000000          1.187916               0.0   \n",
       "2      0.000000    0.000000          1.187916               0.0   \n",
       "3      0.000000    0.001024          1.187916               0.0   \n",
       "4      0.000000    0.000000          1.187916               0.0   \n",
       "5     -0.000977    0.000000          1.187916               0.0   \n",
       "\n",
       "     positionOffset_y            qm     weighting  \n",
       "row                                                \n",
       "0                 0.0  1.065789e-09  5.201258e+27  \n",
       "1                 0.0  1.065789e-09  5.201258e+27  \n",
       "2                 0.0  1.065789e-09  5.201258e+27  \n",
       "3                 0.0  1.065789e-09  5.201258e+27  \n",
       "4                 0.0  1.065789e-09  5.201258e+27  \n",
       "5                 0.0  1.065789e-09  5.201258e+27  "
      ]
     },
     "execution_count": 58,
     "metadata": {},
     "output_type": "execute_result"
    }
   ],
   "source": [
    "series.iterations[3].particles['beam'].to_df()"
   ]
  },
  {
   "cell_type": "code",
   "execution_count": 59,
   "id": "bc04bf05-76ca-4d33-a4e3-89046d336f4c",
   "metadata": {},
   "outputs": [
    {
     "data": {
      "text/plain": [
       "<openPMD.Series at 'diags/openPMD/monitor.h5' with 2 iteration(s) and 9 attributes>"
      ]
     },
     "execution_count": 59,
     "metadata": {},
     "output_type": "execute_result"
    }
   ],
   "source": [
    "series"
   ]
  },
  {
   "cell_type": "code",
   "execution_count": 60,
   "id": "28f4660d-f0b7-425e-9b22-a54ed978dfd7",
   "metadata": {},
   "outputs": [
    {
     "data": {
      "text/plain": [
       "['__bool__',\n",
       " '__class__',\n",
       " '__delattr__',\n",
       " '__dir__',\n",
       " '__doc__',\n",
       " '__eq__',\n",
       " '__format__',\n",
       " '__ge__',\n",
       " '__getattribute__',\n",
       " '__getstate__',\n",
       " '__gt__',\n",
       " '__hash__',\n",
       " '__init__',\n",
       " '__init_subclass__',\n",
       " '__le__',\n",
       " '__len__',\n",
       " '__lt__',\n",
       " '__module__',\n",
       " '__ne__',\n",
       " '__new__',\n",
       " '__reduce__',\n",
       " '__reduce_ex__',\n",
       " '__repr__',\n",
       " '__setattr__',\n",
       " '__setstate__',\n",
       " '__sizeof__',\n",
       " '__str__',\n",
       " '__subclasshook__',\n",
       " '_pybind11_conduit_v1_',\n",
       " 'attribute_dtypes',\n",
       " 'attributes',\n",
       " 'author',\n",
       " 'backend',\n",
       " 'base_path',\n",
       " 'close',\n",
       " 'comment',\n",
       " 'contains_attribute',\n",
       " 'date',\n",
       " 'delete_attribute',\n",
       " 'flush',\n",
       " 'get_attribute',\n",
       " 'get_rank_table',\n",
       " 'iteration_encoding',\n",
       " 'iteration_flush',\n",
       " 'iteration_format',\n",
       " 'iterations',\n",
       " 'machine',\n",
       " 'meshes_path',\n",
       " 'my_path',\n",
       " 'name',\n",
       " 'openPMD',\n",
       " 'openPMD_extension',\n",
       " 'parse_base',\n",
       " 'particles_path',\n",
       " 'read_iterations',\n",
       " 'series_flush',\n",
       " 'set_attribute',\n",
       " 'set_author',\n",
       " 'set_base_path',\n",
       " 'set_comment',\n",
       " 'set_date',\n",
       " 'set_iteration_encoding',\n",
       " 'set_iteration_format',\n",
       " 'set_meshes_path',\n",
       " 'set_name',\n",
       " 'set_openPMD',\n",
       " 'set_openPMD_extension',\n",
       " 'set_particles_path',\n",
       " 'set_rank_table',\n",
       " 'set_software',\n",
       " 'set_software_version',\n",
       " 'software',\n",
       " 'software_version',\n",
       " 'to_cudf',\n",
       " 'to_df',\n",
       " 'write_iterations']"
      ]
     },
     "execution_count": 60,
     "metadata": {},
     "output_type": "execute_result"
    }
   ],
   "source": [
    "dir(series)"
   ]
  },
  {
   "cell_type": "code",
   "execution_count": 61,
   "id": "e05c484a-5d44-42ca-995f-b4f344c0ab43",
   "metadata": {},
   "outputs": [
    {
     "data": {
      "text/plain": [
       "'monitor'"
      ]
     },
     "execution_count": 61,
     "metadata": {},
     "output_type": "execute_result"
    }
   ],
   "source": [
    "series.name"
   ]
  },
  {
   "cell_type": "code",
   "execution_count": 62,
   "id": "9d3dae36-6791-4f90-867b-75c0f2ad624f",
   "metadata": {},
   "outputs": [
    {
     "ename": "ErrorNoSuchAttribute",
     "evalue": "comment",
     "output_type": "error",
     "traceback": [
      "\u001b[31m---------------------------------------------------------------------------\u001b[39m",
      "\u001b[31mErrorNoSuchAttribute\u001b[39m                      Traceback (most recent call last)",
      "\u001b[36mCell\u001b[39m\u001b[36m \u001b[39m\u001b[32mIn[62]\u001b[39m\u001b[32m, line 1\u001b[39m\n\u001b[32m----> \u001b[39m\u001b[32m1\u001b[39m \u001b[43mseries\u001b[49m\u001b[43m.\u001b[49m\u001b[43mcomment\u001b[49m\n",
      "\u001b[31mErrorNoSuchAttribute\u001b[39m: comment"
     ]
    }
   ],
   "source": [
    "series.comment"
   ]
  },
  {
   "cell_type": "code",
   "execution_count": 63,
   "id": "287b2a85-0794-4841-a617-b40e3f37af49",
   "metadata": {},
   "outputs": [],
   "source": [
    "series.close()"
   ]
  },
  {
   "cell_type": "code",
   "execution_count": null,
   "id": "000360ef-991a-4380-bdff-382890fb8acc",
   "metadata": {},
   "outputs": [],
   "source": [
    "series"
   ]
  },
  {
   "cell_type": "code",
   "execution_count": null,
   "id": "1a25c382-af16-43b3-9e95-b7ad75222d38",
   "metadata": {},
   "outputs": [],
   "source": []
  }
 ],
 "metadata": {
  "kernelspec": {
   "display_name": "Python 3 (ipykernel)",
   "language": "python",
   "name": "python3"
  },
  "language_info": {
   "codemirror_mode": {
    "name": "ipython",
    "version": 3
   },
   "file_extension": ".py",
   "mimetype": "text/x-python",
   "name": "python",
   "nbconvert_exporter": "python",
   "pygments_lexer": "ipython3",
   "version": "3.13.2"
  }
 },
 "nbformat": 4,
 "nbformat_minor": 5
}
