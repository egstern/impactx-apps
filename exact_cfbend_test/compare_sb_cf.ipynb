{
 "cells": [
  {
   "cell_type": "code",
   "execution_count": 28,
   "id": "4fc3f528-d00e-40dd-a9b6-043c9316b5ec",
   "metadata": {},
   "outputs": [],
   "source": [
    "import numpy as np\n",
    "import matplotlib.pyplot as plt\n",
    "import pandas as pd\n",
    "import openpmd_api as io\n",
    "import pytest"
   ]
  },
  {
   "cell_type": "code",
   "execution_count": 2,
   "id": "918fbd3b-fc14-4a1d-92c0-bd94b47903af",
   "metadata": {},
   "outputs": [],
   "source": [
    "series_sb = io.Series(\"diags_sb/openPMD/monitor.h5\", io.Access.read_only)\n",
    "series_sbx1 = io.Series(\"diags_sbx1/openPMD/monitor.h5\", io.Access.read_only)\n",
    "series_cf = io.Series(\"diags_cf/openPMD/monitor.h5\", io.Access.read_only)\n",
    "series_cfx1 = io.Series(\"diags_cfx1/openPMD/monitor.h5\", io.Access.read_only)"
   ]
  },
  {
   "cell_type": "code",
   "execution_count": 3,
   "id": "276ca46f-d5c7-4cbe-81e9-7db3973ee205",
   "metadata": {},
   "outputs": [
    {
     "name": "stdout",
     "output_type": "stream",
     "text": [
      "it_sb:  [1, 18]\n",
      "[1, 3]\n"
     ]
    }
   ],
   "source": [
    "it_sb = list(series_sb.iterations)\n",
    "print('it_sb: ', it_sb)\n",
    "it_sbx1 = list(series_sbx1.iterations)\n",
    "print(it_sbx1)"
   ]
  },
  {
   "cell_type": "code",
   "execution_count": 4,
   "id": "89289235-8b42-4f86-8b7b-7cbce9d4d688",
   "metadata": {},
   "outputs": [
    {
     "name": "stdout",
     "output_type": "stream",
     "text": [
      "it_sb:  [1, 18]\n",
      "[1, 3]\n"
     ]
    }
   ],
   "source": [
    "it_cf = list(series_cf.iterations)\n",
    "print('it_sb: ', it_cf)\n",
    "it_cfx1 = list(series_cfx1.iterations)\n",
    "print(it_cfx1)"
   ]
  },
  {
   "cell_type": "code",
   "execution_count": 5,
   "id": "61606a8d-5376-49de-ade9-2e32728d07c6",
   "metadata": {},
   "outputs": [],
   "source": [
    "final_sb =  series_sb.iterations[it_sb[-1]].particles[\"beam\"].to_df()\n",
    "final_sbx1 =  series_sbx1.iterations[it_sbx1[-1]].particles[\"beam\"].to_df()\n",
    "final_cf =  series_cf.iterations[it_cf[-1]].particles[\"beam\"].to_df()\n",
    "final_cfx1 =  series_cfx1.iterations[it_cfx1[-1]].particles[\"beam\"].to_df()"
   ]
  },
  {
   "cell_type": "code",
   "execution_count": 6,
   "id": "849ce719-fc16-45de-9c6d-cb82e5374e87",
   "metadata": {},
   "outputs": [
    {
     "data": {
      "text/plain": [
       "Index(['id', 'momentum_t', 'momentum_x', 'momentum_y', 'position_t',\n",
       "       'position_x', 'position_y', 'positionOffset_t', 'positionOffset_x',\n",
       "       'positionOffset_y', 'qm', 'weighting'],\n",
       "      dtype='object')"
      ]
     },
     "execution_count": 6,
     "metadata": {},
     "output_type": "execute_result"
    }
   ],
   "source": [
    "final_sb.columns"
   ]
  },
  {
   "cell_type": "code",
   "execution_count": 7,
   "id": "fc9656cd-f7e0-4e87-8f17-159232caa43e",
   "metadata": {},
   "outputs": [
    {
     "data": {
      "text/plain": [
       "['alpha_t',\n",
       " 'alpha_x',\n",
       " 'alpha_y',\n",
       " 'beta_gamma_ref',\n",
       " 'beta_ref',\n",
       " 'beta_t',\n",
       " 'beta_x',\n",
       " 'beta_y',\n",
       " 'charge_C',\n",
       " 'charge_ref',\n",
       " 'dispersion_px',\n",
       " 'dispersion_py',\n",
       " 'dispersion_x',\n",
       " 'dispersion_y',\n",
       " 'emittance_t',\n",
       " 'emittance_tn',\n",
       " 'emittance_x',\n",
       " 'emittance_xn',\n",
       " 'emittance_y',\n",
       " 'emittance_yn',\n",
       " 'gamma_ref',\n",
       " 'mass_ref',\n",
       " 'pt_max',\n",
       " 'pt_mean',\n",
       " 'pt_min',\n",
       " 'pt_ref',\n",
       " 'px_max',\n",
       " 'px_mean',\n",
       " 'px_min',\n",
       " 'px_ref',\n",
       " 'py_max',\n",
       " 'py_mean',\n",
       " 'py_min',\n",
       " 'py_ref',\n",
       " 'pz_ref',\n",
       " 's_ref',\n",
       " 'sig_pt',\n",
       " 'sig_px',\n",
       " 'sig_py',\n",
       " 'sig_t',\n",
       " 'sig_x',\n",
       " 'sig_y',\n",
       " 't_max',\n",
       " 't_mean',\n",
       " 't_min',\n",
       " 't_ref',\n",
       " 'x_max',\n",
       " 'x_mean',\n",
       " 'x_min',\n",
       " 'x_ref',\n",
       " 'y_max',\n",
       " 'y_mean',\n",
       " 'y_min',\n",
       " 'y_ref',\n",
       " 'z_ref']"
      ]
     },
     "execution_count": 7,
     "metadata": {},
     "output_type": "execute_result"
    }
   ],
   "source": [
    "series_sb.iterations[it_sb[-1]].particles[\"beam\"].attributes"
   ]
  },
  {
   "cell_type": "code",
   "execution_count": 8,
   "id": "fa35c580-f449-4bf6-aced-53a7ebf061c3",
   "metadata": {},
   "outputs": [
    {
     "data": {
      "text/plain": [
       "(16,)"
      ]
     },
     "execution_count": 8,
     "metadata": {},
     "output_type": "execute_result"
    }
   ],
   "source": [
    "final_sb[\"position_t\"].shape"
   ]
  },
  {
   "cell_type": "code",
   "execution_count": 9,
   "id": "a47c4a71-dbb5-449a-b33f-62682627e181",
   "metadata": {},
   "outputs": [
    {
     "data": {
      "text/plain": [
       "row\n",
       "0     0.000000\n",
       "1    -0.001634\n",
       "2     0.000000\n",
       "3     0.000000\n",
       "4     0.000000\n",
       "5     0.000000\n",
       "6     0.000000\n",
       "7     0.000000\n",
       "8     0.000000\n",
       "9     0.000000\n",
       "10    0.000000\n",
       "11    0.000000\n",
       "12    0.000000\n",
       "13    0.000000\n",
       "14    0.000000\n",
       "15    0.000000\n",
       "Name: position_t, dtype: float64"
      ]
     },
     "execution_count": 9,
     "metadata": {},
     "output_type": "execute_result"
    }
   ],
   "source": [
    "final_sb[\"position_t\"]"
   ]
  },
  {
   "cell_type": "code",
   "execution_count": 10,
   "id": "2dffede4-7a4d-4f32-af89-5eac24db3aff",
   "metadata": {},
   "outputs": [
    {
     "data": {
      "text/plain": [
       "np.float64(-0.0016344897900358452)"
      ]
     },
     "execution_count": 10,
     "metadata": {},
     "output_type": "execute_result"
    }
   ],
   "source": [
    "final_cf[\"position_t\"][1]"
   ]
  },
  {
   "cell_type": "code",
   "execution_count": 11,
   "id": "a0d4cbe0-637e-45c4-9e38-d375cc42596c",
   "metadata": {},
   "outputs": [
    {
     "data": {
      "text/plain": [
       "np.float64(-0.0016344897900469335)"
      ]
     },
     "execution_count": 11,
     "metadata": {},
     "output_type": "execute_result"
    }
   ],
   "source": [
    "final_sb[\"position_t\"][1]"
   ]
  },
  {
   "cell_type": "code",
   "execution_count": 12,
   "id": "16b1819a-908a-4d2e-84d7-5222dc170bd7",
   "metadata": {},
   "outputs": [
    {
     "data": {
      "text/plain": [
       "np.False_"
      ]
     },
     "execution_count": 12,
     "metadata": {},
     "output_type": "execute_result"
    }
   ],
   "source": [
    "final_cf[\"position_t\"][1] == final_sb[\"position_t\"][1]"
   ]
  },
  {
   "cell_type": "code",
   "execution_count": 13,
   "id": "3ae0ad5c-8a16-4244-9613-7c936c412b47",
   "metadata": {},
   "outputs": [
    {
     "name": "stdout",
     "output_type": "stream",
     "text": [
      "pt particle 1 SB 1 slice:  -0.0016344897900451016\n",
      "pt particle 1 SB 16 slices:  -0.0016344897900469335\n",
      "pt particle 1 CF 1 slice:  -0.001634489790044824\n",
      "pt particle 1 cf 16 slices:  -0.0016344897900358452\n"
     ]
    }
   ],
   "source": [
    "print('pt particle 1 SB 1 slice: ', final_sbx1['position_t'][1])\n",
    "print('pt particle 1 SB 16 slices: ', final_sb['position_t'][1])\n",
    "print('pt particle 1 CF 1 slice: ', final_cfx1['position_t'][1])\n",
    "print('pt particle 1 cf 16 slices: ', final_cf['position_t'][1])"
   ]
  },
  {
   "cell_type": "code",
   "execution_count": 14,
   "id": "6fc46877-acca-4f2f-91d1-9236afc6a655",
   "metadata": {},
   "outputs": [],
   "source": [
    "ref_part_sb = pd.read_csv('diags_sb/ref_particle.0.0', sep='\\\\s+')\n",
    "ref_part_sbx1 = pd.read_csv('diags_sbx1/ref_particle.0.0', sep='\\\\s+')\n",
    "ref_part_cf = pd.read_csv('diags_cf/ref_particle.0.0', sep='\\\\s+')\n",
    "ref_part_cfx1 = pd.read_csv('diags_cfx1/ref_particle.0.0', sep='\\\\s+')"
   ]
  },
  {
   "cell_type": "code",
   "execution_count": 15,
   "id": "b80e1cdd-d80d-4d98-ace2-ae5b4ee4e6bd",
   "metadata": {},
   "outputs": [
    {
     "data": {
      "text/html": [
       "<div>\n",
       "<style scoped>\n",
       "    .dataframe tbody tr th:only-of-type {\n",
       "        vertical-align: middle;\n",
       "    }\n",
       "\n",
       "    .dataframe tbody tr th {\n",
       "        vertical-align: top;\n",
       "    }\n",
       "\n",
       "    .dataframe thead th {\n",
       "        text-align: right;\n",
       "    }\n",
       "</style>\n",
       "<table border=\"1\" class=\"dataframe\">\n",
       "  <thead>\n",
       "    <tr style=\"text-align: right;\">\n",
       "      <th></th>\n",
       "      <th>step</th>\n",
       "      <th>s</th>\n",
       "      <th>beta</th>\n",
       "      <th>gamma</th>\n",
       "      <th>beta_gamma</th>\n",
       "      <th>x</th>\n",
       "      <th>y</th>\n",
       "      <th>z</th>\n",
       "      <th>t</th>\n",
       "      <th>px</th>\n",
       "      <th>py</th>\n",
       "      <th>pz</th>\n",
       "      <th>pt</th>\n",
       "    </tr>\n",
       "  </thead>\n",
       "  <tbody>\n",
       "    <tr>\n",
       "      <th>0</th>\n",
       "      <td>0</td>\n",
       "      <td>0.00</td>\n",
       "      <td>0.841811</td>\n",
       "      <td>1.852631</td>\n",
       "      <td>1.559565</td>\n",
       "      <td>0.000000</td>\n",
       "      <td>0</td>\n",
       "      <td>0.000000</td>\n",
       "      <td>0.000000</td>\n",
       "      <td>0.000000</td>\n",
       "      <td>0</td>\n",
       "      <td>1.559565</td>\n",
       "      <td>-1.852631</td>\n",
       "    </tr>\n",
       "    <tr>\n",
       "      <th>1</th>\n",
       "      <td>1</td>\n",
       "      <td>0.00</td>\n",
       "      <td>0.841811</td>\n",
       "      <td>1.852631</td>\n",
       "      <td>1.559565</td>\n",
       "      <td>0.000000</td>\n",
       "      <td>0</td>\n",
       "      <td>0.000000</td>\n",
       "      <td>0.000000</td>\n",
       "      <td>0.000000</td>\n",
       "      <td>0</td>\n",
       "      <td>1.559565</td>\n",
       "      <td>-1.852631</td>\n",
       "    </tr>\n",
       "    <tr>\n",
       "      <th>2</th>\n",
       "      <td>2</td>\n",
       "      <td>0.25</td>\n",
       "      <td>0.841811</td>\n",
       "      <td>1.852631</td>\n",
       "      <td>1.559565</td>\n",
       "      <td>-0.000682</td>\n",
       "      <td>0</td>\n",
       "      <td>0.249999</td>\n",
       "      <td>0.296979</td>\n",
       "      <td>-0.008506</td>\n",
       "      <td>0</td>\n",
       "      <td>1.559542</td>\n",
       "      <td>-1.852631</td>\n",
       "    </tr>\n",
       "    <tr>\n",
       "      <th>3</th>\n",
       "      <td>3</td>\n",
       "      <td>0.50</td>\n",
       "      <td>0.841811</td>\n",
       "      <td>1.852631</td>\n",
       "      <td>1.559565</td>\n",
       "      <td>-0.002727</td>\n",
       "      <td>0</td>\n",
       "      <td>0.499990</td>\n",
       "      <td>0.593958</td>\n",
       "      <td>-0.017012</td>\n",
       "      <td>0</td>\n",
       "      <td>1.559472</td>\n",
       "      <td>-1.852631</td>\n",
       "    </tr>\n",
       "    <tr>\n",
       "      <th>4</th>\n",
       "      <td>4</td>\n",
       "      <td>0.75</td>\n",
       "      <td>0.841811</td>\n",
       "      <td>1.852631</td>\n",
       "      <td>1.559565</td>\n",
       "      <td>-0.006136</td>\n",
       "      <td>0</td>\n",
       "      <td>0.749967</td>\n",
       "      <td>0.890937</td>\n",
       "      <td>-0.025517</td>\n",
       "      <td>0</td>\n",
       "      <td>1.559356</td>\n",
       "      <td>-1.852631</td>\n",
       "    </tr>\n",
       "    <tr>\n",
       "      <th>5</th>\n",
       "      <td>5</td>\n",
       "      <td>1.00</td>\n",
       "      <td>0.841811</td>\n",
       "      <td>1.852631</td>\n",
       "      <td>1.559565</td>\n",
       "      <td>-0.010908</td>\n",
       "      <td>0</td>\n",
       "      <td>0.999921</td>\n",
       "      <td>1.187916</td>\n",
       "      <td>-0.034022</td>\n",
       "      <td>0</td>\n",
       "      <td>1.559194</td>\n",
       "      <td>-1.852631</td>\n",
       "    </tr>\n",
       "    <tr>\n",
       "      <th>6</th>\n",
       "      <td>6</td>\n",
       "      <td>1.25</td>\n",
       "      <td>0.841811</td>\n",
       "      <td>1.852631</td>\n",
       "      <td>1.559565</td>\n",
       "      <td>-0.017043</td>\n",
       "      <td>0</td>\n",
       "      <td>1.249845</td>\n",
       "      <td>1.484894</td>\n",
       "      <td>-0.042525</td>\n",
       "      <td>0</td>\n",
       "      <td>1.558985</td>\n",
       "      <td>-1.852631</td>\n",
       "    </tr>\n",
       "    <tr>\n",
       "      <th>7</th>\n",
       "      <td>7</td>\n",
       "      <td>1.50</td>\n",
       "      <td>0.841811</td>\n",
       "      <td>1.852631</td>\n",
       "      <td>1.559565</td>\n",
       "      <td>-0.024542</td>\n",
       "      <td>0</td>\n",
       "      <td>1.499732</td>\n",
       "      <td>1.781873</td>\n",
       "      <td>-0.051028</td>\n",
       "      <td>0</td>\n",
       "      <td>1.558730</td>\n",
       "      <td>-1.852631</td>\n",
       "    </tr>\n",
       "    <tr>\n",
       "      <th>8</th>\n",
       "      <td>8</td>\n",
       "      <td>1.75</td>\n",
       "      <td>0.841811</td>\n",
       "      <td>1.852631</td>\n",
       "      <td>1.559565</td>\n",
       "      <td>-0.033403</td>\n",
       "      <td>0</td>\n",
       "      <td>1.749575</td>\n",
       "      <td>2.078852</td>\n",
       "      <td>-0.059528</td>\n",
       "      <td>0</td>\n",
       "      <td>1.558428</td>\n",
       "      <td>-1.852631</td>\n",
       "    </tr>\n",
       "    <tr>\n",
       "      <th>9</th>\n",
       "      <td>9</td>\n",
       "      <td>2.00</td>\n",
       "      <td>0.841811</td>\n",
       "      <td>1.852631</td>\n",
       "      <td>1.559565</td>\n",
       "      <td>-0.043626</td>\n",
       "      <td>0</td>\n",
       "      <td>1.999365</td>\n",
       "      <td>2.375831</td>\n",
       "      <td>-0.068027</td>\n",
       "      <td>0</td>\n",
       "      <td>1.558080</td>\n",
       "      <td>-1.852631</td>\n",
       "    </tr>\n",
       "    <tr>\n",
       "      <th>10</th>\n",
       "      <td>10</td>\n",
       "      <td>2.25</td>\n",
       "      <td>0.841811</td>\n",
       "      <td>1.852631</td>\n",
       "      <td>1.559565</td>\n",
       "      <td>-0.055212</td>\n",
       "      <td>0</td>\n",
       "      <td>2.249097</td>\n",
       "      <td>2.672810</td>\n",
       "      <td>-0.076524</td>\n",
       "      <td>0</td>\n",
       "      <td>1.557686</td>\n",
       "      <td>-1.852631</td>\n",
       "    </tr>\n",
       "    <tr>\n",
       "      <th>11</th>\n",
       "      <td>11</td>\n",
       "      <td>2.50</td>\n",
       "      <td>0.841811</td>\n",
       "      <td>1.852631</td>\n",
       "      <td>1.559565</td>\n",
       "      <td>-0.068160</td>\n",
       "      <td>0</td>\n",
       "      <td>2.498761</td>\n",
       "      <td>2.969789</td>\n",
       "      <td>-0.085019</td>\n",
       "      <td>0</td>\n",
       "      <td>1.557246</td>\n",
       "      <td>-1.852631</td>\n",
       "    </tr>\n",
       "    <tr>\n",
       "      <th>12</th>\n",
       "      <td>12</td>\n",
       "      <td>2.75</td>\n",
       "      <td>0.841811</td>\n",
       "      <td>1.852631</td>\n",
       "      <td>1.559565</td>\n",
       "      <td>-0.082469</td>\n",
       "      <td>0</td>\n",
       "      <td>2.748351</td>\n",
       "      <td>3.266768</td>\n",
       "      <td>-0.093511</td>\n",
       "      <td>0</td>\n",
       "      <td>1.556759</td>\n",
       "      <td>-1.852631</td>\n",
       "    </tr>\n",
       "    <tr>\n",
       "      <th>13</th>\n",
       "      <td>13</td>\n",
       "      <td>3.00</td>\n",
       "      <td>0.841811</td>\n",
       "      <td>1.852631</td>\n",
       "      <td>1.559565</td>\n",
       "      <td>-0.098140</td>\n",
       "      <td>0</td>\n",
       "      <td>2.997859</td>\n",
       "      <td>3.563747</td>\n",
       "      <td>-0.102000</td>\n",
       "      <td>0</td>\n",
       "      <td>1.556226</td>\n",
       "      <td>-1.852631</td>\n",
       "    </tr>\n",
       "    <tr>\n",
       "      <th>14</th>\n",
       "      <td>14</td>\n",
       "      <td>3.25</td>\n",
       "      <td>0.841811</td>\n",
       "      <td>1.852631</td>\n",
       "      <td>1.559565</td>\n",
       "      <td>-0.115171</td>\n",
       "      <td>0</td>\n",
       "      <td>3.247278</td>\n",
       "      <td>3.860725</td>\n",
       "      <td>-0.110487</td>\n",
       "      <td>0</td>\n",
       "      <td>1.555646</td>\n",
       "      <td>-1.852631</td>\n",
       "    </tr>\n",
       "    <tr>\n",
       "      <th>15</th>\n",
       "      <td>15</td>\n",
       "      <td>3.50</td>\n",
       "      <td>0.841811</td>\n",
       "      <td>1.852631</td>\n",
       "      <td>1.559565</td>\n",
       "      <td>-0.133562</td>\n",
       "      <td>0</td>\n",
       "      <td>3.496600</td>\n",
       "      <td>4.157704</td>\n",
       "      <td>-0.118970</td>\n",
       "      <td>0</td>\n",
       "      <td>1.555020</td>\n",
       "      <td>-1.852631</td>\n",
       "    </tr>\n",
       "    <tr>\n",
       "      <th>16</th>\n",
       "      <td>16</td>\n",
       "      <td>3.75</td>\n",
       "      <td>0.841811</td>\n",
       "      <td>1.852631</td>\n",
       "      <td>1.559565</td>\n",
       "      <td>-0.153313</td>\n",
       "      <td>0</td>\n",
       "      <td>3.745818</td>\n",
       "      <td>4.454683</td>\n",
       "      <td>-0.127449</td>\n",
       "      <td>0</td>\n",
       "      <td>1.554348</td>\n",
       "      <td>-1.852631</td>\n",
       "    </tr>\n",
       "    <tr>\n",
       "      <th>17</th>\n",
       "      <td>17</td>\n",
       "      <td>4.00</td>\n",
       "      <td>0.841811</td>\n",
       "      <td>1.852631</td>\n",
       "      <td>1.559565</td>\n",
       "      <td>-0.174422</td>\n",
       "      <td>0</td>\n",
       "      <td>3.994925</td>\n",
       "      <td>4.751662</td>\n",
       "      <td>-0.135925</td>\n",
       "      <td>0</td>\n",
       "      <td>1.553630</td>\n",
       "      <td>-1.852631</td>\n",
       "    </tr>\n",
       "    <tr>\n",
       "      <th>18</th>\n",
       "      <td>18</td>\n",
       "      <td>4.00</td>\n",
       "      <td>0.841811</td>\n",
       "      <td>1.852631</td>\n",
       "      <td>1.559565</td>\n",
       "      <td>-0.174422</td>\n",
       "      <td>0</td>\n",
       "      <td>3.994925</td>\n",
       "      <td>4.751662</td>\n",
       "      <td>-0.135925</td>\n",
       "      <td>0</td>\n",
       "      <td>1.553630</td>\n",
       "      <td>-1.852631</td>\n",
       "    </tr>\n",
       "  </tbody>\n",
       "</table>\n",
       "</div>"
      ],
      "text/plain": [
       "    step     s      beta     gamma  beta_gamma         x  y         z  \\\n",
       "0      0  0.00  0.841811  1.852631    1.559565  0.000000  0  0.000000   \n",
       "1      1  0.00  0.841811  1.852631    1.559565  0.000000  0  0.000000   \n",
       "2      2  0.25  0.841811  1.852631    1.559565 -0.000682  0  0.249999   \n",
       "3      3  0.50  0.841811  1.852631    1.559565 -0.002727  0  0.499990   \n",
       "4      4  0.75  0.841811  1.852631    1.559565 -0.006136  0  0.749967   \n",
       "5      5  1.00  0.841811  1.852631    1.559565 -0.010908  0  0.999921   \n",
       "6      6  1.25  0.841811  1.852631    1.559565 -0.017043  0  1.249845   \n",
       "7      7  1.50  0.841811  1.852631    1.559565 -0.024542  0  1.499732   \n",
       "8      8  1.75  0.841811  1.852631    1.559565 -0.033403  0  1.749575   \n",
       "9      9  2.00  0.841811  1.852631    1.559565 -0.043626  0  1.999365   \n",
       "10    10  2.25  0.841811  1.852631    1.559565 -0.055212  0  2.249097   \n",
       "11    11  2.50  0.841811  1.852631    1.559565 -0.068160  0  2.498761   \n",
       "12    12  2.75  0.841811  1.852631    1.559565 -0.082469  0  2.748351   \n",
       "13    13  3.00  0.841811  1.852631    1.559565 -0.098140  0  2.997859   \n",
       "14    14  3.25  0.841811  1.852631    1.559565 -0.115171  0  3.247278   \n",
       "15    15  3.50  0.841811  1.852631    1.559565 -0.133562  0  3.496600   \n",
       "16    16  3.75  0.841811  1.852631    1.559565 -0.153313  0  3.745818   \n",
       "17    17  4.00  0.841811  1.852631    1.559565 -0.174422  0  3.994925   \n",
       "18    18  4.00  0.841811  1.852631    1.559565 -0.174422  0  3.994925   \n",
       "\n",
       "           t        px  py        pz        pt  \n",
       "0   0.000000  0.000000   0  1.559565 -1.852631  \n",
       "1   0.000000  0.000000   0  1.559565 -1.852631  \n",
       "2   0.296979 -0.008506   0  1.559542 -1.852631  \n",
       "3   0.593958 -0.017012   0  1.559472 -1.852631  \n",
       "4   0.890937 -0.025517   0  1.559356 -1.852631  \n",
       "5   1.187916 -0.034022   0  1.559194 -1.852631  \n",
       "6   1.484894 -0.042525   0  1.558985 -1.852631  \n",
       "7   1.781873 -0.051028   0  1.558730 -1.852631  \n",
       "8   2.078852 -0.059528   0  1.558428 -1.852631  \n",
       "9   2.375831 -0.068027   0  1.558080 -1.852631  \n",
       "10  2.672810 -0.076524   0  1.557686 -1.852631  \n",
       "11  2.969789 -0.085019   0  1.557246 -1.852631  \n",
       "12  3.266768 -0.093511   0  1.556759 -1.852631  \n",
       "13  3.563747 -0.102000   0  1.556226 -1.852631  \n",
       "14  3.860725 -0.110487   0  1.555646 -1.852631  \n",
       "15  4.157704 -0.118970   0  1.555020 -1.852631  \n",
       "16  4.454683 -0.127449   0  1.554348 -1.852631  \n",
       "17  4.751662 -0.135925   0  1.553630 -1.852631  \n",
       "18  4.751662 -0.135925   0  1.553630 -1.852631  "
      ]
     },
     "execution_count": 15,
     "metadata": {},
     "output_type": "execute_result"
    }
   ],
   "source": [
    "ref_part_sb"
   ]
  },
  {
   "cell_type": "code",
   "execution_count": 16,
   "id": "0cd176f7-a273-4566-8f05-6fcc476b970e",
   "metadata": {},
   "outputs": [
    {
     "data": {
      "text/html": [
       "<div>\n",
       "<style scoped>\n",
       "    .dataframe tbody tr th:only-of-type {\n",
       "        vertical-align: middle;\n",
       "    }\n",
       "\n",
       "    .dataframe tbody tr th {\n",
       "        vertical-align: top;\n",
       "    }\n",
       "\n",
       "    .dataframe thead th {\n",
       "        text-align: right;\n",
       "    }\n",
       "</style>\n",
       "<table border=\"1\" class=\"dataframe\">\n",
       "  <thead>\n",
       "    <tr style=\"text-align: right;\">\n",
       "      <th></th>\n",
       "      <th>step</th>\n",
       "      <th>s</th>\n",
       "      <th>beta</th>\n",
       "      <th>gamma</th>\n",
       "      <th>beta_gamma</th>\n",
       "      <th>x</th>\n",
       "      <th>y</th>\n",
       "      <th>z</th>\n",
       "      <th>t</th>\n",
       "      <th>px</th>\n",
       "      <th>py</th>\n",
       "      <th>pz</th>\n",
       "      <th>pt</th>\n",
       "    </tr>\n",
       "  </thead>\n",
       "  <tbody>\n",
       "    <tr>\n",
       "      <th>0</th>\n",
       "      <td>0</td>\n",
       "      <td>0</td>\n",
       "      <td>0.841811</td>\n",
       "      <td>1.852631</td>\n",
       "      <td>1.559565</td>\n",
       "      <td>0.000000</td>\n",
       "      <td>0</td>\n",
       "      <td>0.000000</td>\n",
       "      <td>0.000000</td>\n",
       "      <td>0.000000</td>\n",
       "      <td>0</td>\n",
       "      <td>1.559565</td>\n",
       "      <td>-1.852631</td>\n",
       "    </tr>\n",
       "    <tr>\n",
       "      <th>1</th>\n",
       "      <td>1</td>\n",
       "      <td>0</td>\n",
       "      <td>0.841811</td>\n",
       "      <td>1.852631</td>\n",
       "      <td>1.559565</td>\n",
       "      <td>0.000000</td>\n",
       "      <td>0</td>\n",
       "      <td>0.000000</td>\n",
       "      <td>0.000000</td>\n",
       "      <td>0.000000</td>\n",
       "      <td>0</td>\n",
       "      <td>1.559565</td>\n",
       "      <td>-1.852631</td>\n",
       "    </tr>\n",
       "    <tr>\n",
       "      <th>2</th>\n",
       "      <td>2</td>\n",
       "      <td>4</td>\n",
       "      <td>0.841811</td>\n",
       "      <td>1.852631</td>\n",
       "      <td>1.559565</td>\n",
       "      <td>-0.174422</td>\n",
       "      <td>0</td>\n",
       "      <td>3.994925</td>\n",
       "      <td>4.751662</td>\n",
       "      <td>-0.135925</td>\n",
       "      <td>0</td>\n",
       "      <td>1.553630</td>\n",
       "      <td>-1.852631</td>\n",
       "    </tr>\n",
       "    <tr>\n",
       "      <th>3</th>\n",
       "      <td>3</td>\n",
       "      <td>4</td>\n",
       "      <td>0.841811</td>\n",
       "      <td>1.852631</td>\n",
       "      <td>1.559565</td>\n",
       "      <td>-0.174422</td>\n",
       "      <td>0</td>\n",
       "      <td>3.994925</td>\n",
       "      <td>4.751662</td>\n",
       "      <td>-0.135925</td>\n",
       "      <td>0</td>\n",
       "      <td>1.553630</td>\n",
       "      <td>-1.852631</td>\n",
       "    </tr>\n",
       "  </tbody>\n",
       "</table>\n",
       "</div>"
      ],
      "text/plain": [
       "   step  s      beta     gamma  beta_gamma         x  y         z         t  \\\n",
       "0     0  0  0.841811  1.852631    1.559565  0.000000  0  0.000000  0.000000   \n",
       "1     1  0  0.841811  1.852631    1.559565  0.000000  0  0.000000  0.000000   \n",
       "2     2  4  0.841811  1.852631    1.559565 -0.174422  0  3.994925  4.751662   \n",
       "3     3  4  0.841811  1.852631    1.559565 -0.174422  0  3.994925  4.751662   \n",
       "\n",
       "         px  py        pz        pt  \n",
       "0  0.000000   0  1.559565 -1.852631  \n",
       "1  0.000000   0  1.559565 -1.852631  \n",
       "2 -0.135925   0  1.553630 -1.852631  \n",
       "3 -0.135925   0  1.553630 -1.852631  "
      ]
     },
     "execution_count": 16,
     "metadata": {},
     "output_type": "execute_result"
    }
   ],
   "source": [
    "ref_part_sbx1"
   ]
  },
  {
   "cell_type": "code",
   "execution_count": 17,
   "id": "a532c305-4f8d-453f-8ffe-44f2c45ab32e",
   "metadata": {},
   "outputs": [
    {
     "data": {
      "text/plain": [
       "<matplotlib.legend.Legend at 0x7e8b1e38e270>"
      ]
     },
     "execution_count": 17,
     "metadata": {},
     "output_type": "execute_result"
    },
    {
     "data": {
      "image/png": "[encoded data removed]",
      "text/plain": [
       "<Figure size 800x600 with 1 Axes>"
      ]
     },
     "metadata": {},
     "output_type": "display_data"
    }
   ],
   "source": [
    "beta=ref_part_sb['beta'][0]\n",
    "plt.plot(ref_part_sb['s'], ref_part_sb['t']*beta, '.-', label='T sbend')\n",
    "plt.plot(ref_part_cf['s'], ref_part_cf['t']*beta, '.-', label='T cfbend')\n",
    "plt.xlabel('s')\n",
    "plt.ylabel('cT offset')\n",
    "plt.legend(loc='best')\n",
    "        "
   ]
  },
  {
   "cell_type": "code",
   "execution_count": 18,
   "id": "515c4acd-9aa6-4f58-8822-9348309c7cfc",
   "metadata": {},
   "outputs": [
    {
     "data": {
      "text/plain": [
       "<matplotlib.legend.Legend at 0x7e8b1616b250>"
      ]
     },
     "execution_count": 18,
     "metadata": {},
     "output_type": "execute_result"
    },
    {
     "data": {
      "image/png": "[encoded data removed]",
      "text/plain": [
       "<Figure size 800x600 with 1 Axes>"
      ]
     },
     "metadata": {},
     "output_type": "display_data"
    }
   ],
   "source": [
    "beta=ref_part_sb['beta'][0]\n",
    "plt.plot(ref_part_sb['s'], (ref_part_sb['t']-ref_part_cf['t'])*beta, '.-', label='T sbend - cfbend')\n",
    "plt.xlabel('s')\n",
    "plt.ylabel('cT offset')\n",
    "plt.legend(loc='best')\n"
   ]
  },
  {
   "cell_type": "code",
   "execution_count": 19,
   "id": "dcda353e-7bd5-45bf-a0ae-d7972193126d",
   "metadata": {},
   "outputs": [
    {
     "data": {
      "text/plain": [
       "<matplotlib.legend.Legend at 0x7e8b15ffbb10>"
      ]
     },
     "execution_count": 19,
     "metadata": {},
     "output_type": "execute_result"
    },
    {
     "data": {
      "image/png": "[encoded data removed]",
      "text/plain": [
       "<Figure size 800x600 with 1 Axes>"
      ]
     },
     "metadata": {},
     "output_type": "display_data"
    }
   ],
   "source": [
    "#print(type(ref_part_sb['px']))\n",
    "#print(ref_part_sb['px']**2 + ref_part_sb['pz']**2)\n",
    "p_sb = np.sqrt(np.array(ref_part_sb['px'])**2 + np.array(ref_part_sb['pz']**2))\n",
    "p_cf = np.sqrt(np.array(ref_part_cf['px'])**2 + np.array(ref_part_cf['pz']**2))\n",
    "#print(p_sb)\n",
    "plt.plot(ref_part_sb['s'], p_sb, label='total momentum sbend')\n",
    "plt.plot(ref_part_cf['s'], p_cf, label='total momentum cfend')\n",
    "#plt.xlabel('s')\n",
    "#plt.ylabel('momentum')\n",
    "plt.legend(loc='best')"
   ]
  },
  {
   "cell_type": "code",
   "execution_count": 20,
   "id": "b5135a2e-1dfb-427a-9bcd-0e330c7eb955",
   "metadata": {},
   "outputs": [
    {
     "data": {
      "text/plain": [
       "<matplotlib.legend.Legend at 0x7e8b160a5e50>"
      ]
     },
     "execution_count": 20,
     "metadata": {},
     "output_type": "execute_result"
    },
    {
     "data": {
      "image/png": "[encoded data removed]",
      "text/plain": [
       "<Figure size 800x600 with 1 Axes>"
      ]
     },
     "metadata": {},
     "output_type": "display_data"
    }
   ],
   "source": [
    "angle_sb = np.arctan2(ref_part_sb['px'], ref_part_sb['pz'])\n",
    "angle_cf = np.arctan2(ref_part_cf['px'], ref_part_cf['pz'])\n",
    "plt.plot(ref_part_sb['s'], angle_sb, label='angle sbend')\n",
    "plt.plot(ref_part_cf['s'], angle_cf, label='angle cfbend')\n",
    "plt.xlabel('s')\n",
    "plt.ylabel('angle')\n",
    "plt.legend(loc='best')"
   ]
  },
  {
   "cell_type": "code",
   "execution_count": 21,
   "id": "34315456-b9b6-479e-ac4c-6abf35fcef30",
   "metadata": {},
   "outputs": [
    {
     "name": "stdout",
     "output_type": "stream",
     "text": [
      "final angle sbend:  -0.08726646259971647 radians,  -5.0 degrees\n",
      "final angle cfbend:  -0.08726646259971647 radians,  -5.0 degrees\n"
     ]
    }
   ],
   "source": [
    "print('final angle sbend: ', angle_sb.to_numpy()[-1], 'radians, ', angle_sb.to_numpy()[-1]*180/np.pi, 'degrees')\n",
    "print('final angle cfbend: ', angle_cf.to_numpy()[-1], 'radians, ', angle_cf.to_numpy()[-1]*180/np.pi, 'degrees') "
   ]
  },
  {
   "cell_type": "code",
   "execution_count": 22,
   "id": "fef2c300-f3b9-4521-9f78-5c9ec3fd7215",
   "metadata": {},
   "outputs": [
    {
     "name": "stdout",
     "output_type": "stream",
     "text": [
      "final angle sbendx1:  -0.08726646259971642 radians,  -4.9999999999999964 degrees\n",
      "final angle cfbendx1:  -0.08726646259971642 radians,  -4.9999999999999964 degrees\n"
     ]
    }
   ],
   "source": [
    "angle_sbx1 = np.arctan2(ref_part_sbx1['px'], ref_part_sbx1['pz'])\n",
    "angle_cfx1 = np.arctan2(ref_part_cfx1['px'], ref_part_cfx1['pz'])\n",
    "print('final angle sbendx1: ', angle_sbx1.to_numpy()[-1], 'radians, ', angle_sbx1.to_numpy()[-1]*180/np.pi, 'degrees')\n",
    "print('final angle cfbendx1: ', angle_cfx1.to_numpy()[-1], 'radians, ', angle_cfx1.to_numpy()[-1]*180/np.pi, 'degrees') "
   ]
  },
  {
   "cell_type": "code",
   "execution_count": 24,
   "id": "0fdf84d0-503e-45df-aa21-7b5577be54da",
   "metadata": {},
   "outputs": [
    {
     "name": "stdout",
     "output_type": "stream",
     "text": [
      "beta ref:  0.8418107058090252\n",
      "gamma_ref:  1.8526311386790644\n",
      "beta_gamma_ref:  1.5595647264552013\n"
     ]
    }
   ],
   "source": [
    "beta_ref = ref_part_sb['beta'][0]\n",
    "gamma_ref = ref_part_sb['gamma'][0]\n",
    "beta_gamma_ref = ref_part_sb['beta_gamma'][0]\n",
    "print('beta ref: ', beta_ref)\n",
    "print('gamma_ref: ', gamma_ref)\n",
    "print('beta_gamma_ref: ', beta_gamma_ref)"
   ]
  },
  {
   "cell_type": "code",
   "execution_count": 25,
   "id": "d188bc89-28b5-43f5-9fc9-8a7f3e7dc3f1",
   "metadata": {},
   "outputs": [
    {
     "name": "stdout",
     "output_type": "stream",
     "text": [
      "pt offset particle 1:  -0.001\n"
     ]
    }
   ],
   "source": [
    "ptoffs = final_sb['momentum_t'][1]\n",
    "print('pt offset particle 1: ', ptoffs)"
   ]
  },
  {
   "cell_type": "code",
   "execution_count": 38,
   "id": "5e802837-a826-4ff5-84a9-4fa914631b1d",
   "metadata": {},
   "outputs": [
    {
     "name": "stdout",
     "output_type": "stream",
     "text": [
      "particle 1, t_expected:  -0.0016344897900459898\n"
     ]
    }
   ],
   "source": [
    "gamma1 = gamma_ref - ptoffs*beta_gamma_ref\n",
    "betagamma1 = np.sqrt(gamma1**2-1)\n",
    "beta1 = betagamma1/gamma1\n",
    "angle = np.pi/36\n",
    "L = 4.0\n",
    "R0 = L/angle\n",
    "R1 = R0 * betagamma1/beta_gamma_ref\n",
    "D = R1-R0\n",
    "sec2 = 1.0/np.cos(angle)**2\n",
    "# solve\n",
    "# y^2 sec^2 theta + 2 D y + D^2-R1^2 = 0\n",
    "#\n",
    "\n",
    "#y = ( -2*D + np.sqrt(4*D**2 - 4*sec2*(D**2 - R1**2)) )/(2*sec2)\n",
    "y = ( -2*D + np.sqrt(4*D**2 - 4*sec2*(R0**2 - 2*R0*R1)) )/(2*sec2)\n",
    "x = y * np.tan(angle)\n",
    "angle2 = np.arctan2(x, y+D)\n",
    "L2 = R1*angle2\n",
    "\n",
    "t_expected = L2/beta1 - L/beta_ref\n",
    "print('particle 1, t_expected: ', t_expected)"
   ]
  },
  {
   "cell_type": "code",
   "execution_count": 39,
   "id": "aa4c9dfa-badc-4a35-9ea8-3378f92b0643",
   "metadata": {},
   "outputs": [
    {
     "name": "stdout",
     "output_type": "stream",
     "text": [
      "final_sb rel diff:  5.773159728050814e-13\n",
      "final_sbx1 rel diff:  -5.433431482515516e-13\n",
      "final_cf rel diff:  -6.206590796864475e-12\n",
      "final_cfx1 rel diff:  -7.132072710192006e-13\n"
     ]
    }
   ],
   "source": [
    "print('final_sb rel diff: ', final_sb['position_t'][1]/t_expected-1)\n",
    "print('final_sbx1 rel diff: ', final_sbx1['position_t'][1]/t_expected-1)\n",
    "print('final_cf rel diff: ', final_cf['position_t'][1]/t_expected-1)\n",
    "print('final_cfx1 rel diff: ', final_cfx1['position_t'][1]/t_expected-1)\n",
    "assert final_sb['position_t'][1] == pytest.approx(t_expected, rel=1.0e-13)\n",
    "assert final_sbx1['position_t'][1] == pytest.approx(t_expected, rel=1.0e-13)\n",
    "assert final_cf['position_t'][1] == pytest.approx(t_expected, rel=1.0e-13)\n",
    "assert final_cfx1['position_t'][1] == pytest.approx(t_expected, rel=1.0e-13)"
   ]
  },
  {
   "cell_type": "code",
   "execution_count": null,
   "id": "3562b5b7-6ca2-43ae-a262-360093f38a52",
   "metadata": {},
   "outputs": [],
   "source": []
  }
 ],
 "metadata": {
  "kernelspec": {
   "display_name": "Python 3 (ipykernel)",
   "language": "python",
   "name": "python3"
  },
  "language_info": {
   "codemirror_mode": {
    "name": "ipython",
    "version": 3
   },
   "file_extension": ".py",
   "mimetype": "text/x-python",
   "name": "python",
   "nbconvert_exporter": "python",
   "pygments_lexer": "ipython3",
   "version": "3.13.2"
  }
 },
 "nbformat": 4,
 "nbformat_minor": 5
}
