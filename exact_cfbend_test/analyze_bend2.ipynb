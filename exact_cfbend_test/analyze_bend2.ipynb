{
 "cells": [
  {
   "cell_type": "code",
   "execution_count": 1,
   "id": "35af637c-bcb9-4cb7-a5eb-bad7f745e67c",
   "metadata": {},
   "outputs": [],
   "source": [
    "import numpy as np\n",
    "import matplotlib.pyplot as plt\n",
    "import pandas as pd\n",
    "import openpmd_api as io"
   ]
  },
  {
   "cell_type": "code",
   "execution_count": 2,
   "id": "049924ff-90a6-499f-bcb0-e189d1960021",
   "metadata": {},
   "outputs": [
    {
     "name": "stdout",
     "output_type": "stream",
     "text": [
      "[1, 3]\n"
     ]
    }
   ],
   "source": [
    "series = io.Series(\"diags/openPMD/monitor.h5\", io.Access.read_only)\n",
    "iterations = list(series.iterations)\n",
    "print(iterations)"
   ]
  },
  {
   "cell_type": "code",
   "execution_count": 3,
   "id": "b1f8145f-1536-4bfd-86f7-64ff2507a7d1",
   "metadata": {},
   "outputs": [],
   "source": [
    "start = series.iterations[iterations[0]]\n",
    "finish = series.iterations[iterations[-1]]\n",
    "\n",
    "start_beam = start.particles[\"beam\"].to_df()\n",
    "finish_beam = finish.particles[\"beam\"].to_df()\n",
    "\n",
    "mp = finish.particles[\"beam\"].get_attribute('mass_ref')\n",
    "beta_ref = finish.particles[\"beam\"].get_attribute('beta_ref')\n",
    "gamma_ref = finish.particles[\"beam\"].get_attribute('gamma_ref')\n",
    "beta_gamma_ref = finish.particles[\"beam\"].get_attribute('beta_gamma_ref')\n"
   ]
  },
  {
   "cell_type": "code",
   "execution_count": 4,
   "id": "7468e3b4-8d6d-45a0-9970-5e2667b7fbe1",
   "metadata": {},
   "outputs": [
    {
     "data": {
      "text/plain": [
       "1.559564726455201"
      ]
     },
     "execution_count": 4,
     "metadata": {},
     "output_type": "execute_result"
    }
   ],
   "source": [
    "beta_gamma_ref"
   ]
  },
  {
   "cell_type": "code",
   "execution_count": 5,
   "id": "b06bb980-6071-4976-9ff2-880fb561eac1",
   "metadata": {},
   "outputs": [
    {
     "data": {
      "text/plain": [
       "row\n",
       "0     0.000\n",
       "1    -0.001\n",
       "2     0.000\n",
       "3     0.000\n",
       "4     0.000\n",
       "5     0.000\n",
       "6     0.000\n",
       "7     0.000\n",
       "8     0.000\n",
       "9     0.000\n",
       "10    0.000\n",
       "11    0.000\n",
       "12    0.000\n",
       "13    0.000\n",
       "14    0.000\n",
       "15    0.000\n",
       "Name: momentum_t, dtype: float64"
      ]
     },
     "execution_count": 5,
     "metadata": {},
     "output_type": "execute_result"
    }
   ],
   "source": [
    "finish_beam['momentum_t']"
   ]
  },
  {
   "cell_type": "code",
   "execution_count": 6,
   "id": "0b04774c-ba77-4e60-b94f-42f40b71bd78",
   "metadata": {},
   "outputs": [],
   "source": [
    "ptoffs = finish_beam['momentum_t'][1]"
   ]
  },
  {
   "cell_type": "code",
   "execution_count": 7,
   "id": "e0835311-18b9-4799-9ea4-d2e51fa60c0b",
   "metadata": {},
   "outputs": [
    {
     "data": {
      "text/plain": [
       "np.float64(-0.001)"
      ]
     },
     "execution_count": 7,
     "metadata": {},
     "output_type": "execute_result"
    }
   ],
   "source": [
    "ptoffs"
   ]
  },
  {
   "cell_type": "code",
   "execution_count": 8,
   "id": "1534b926-5bc7-4384-b16c-9253d15399f7",
   "metadata": {},
   "outputs": [],
   "source": [
    "gamma1 = gamma_ref - ptoffs*beta_gamma_ref"
   ]
  },
  {
   "cell_type": "code",
   "execution_count": 9,
   "id": "1610c860-432a-40aa-b4d0-97814a88d70a",
   "metadata": {},
   "outputs": [
    {
     "data": {
      "text/plain": [
       "np.float64(1.8541907034055196)"
      ]
     },
     "execution_count": 9,
     "metadata": {},
     "output_type": "execute_result"
    }
   ],
   "source": [
    "gamma1"
   ]
  },
  {
   "cell_type": "code",
   "execution_count": 10,
   "id": "123c8e94-dc9a-419a-9e23-424e5e7e80e9",
   "metadata": {},
   "outputs": [
    {
     "data": {
      "text/plain": [
       "np.float64(1.000841810705809)"
      ]
     },
     "execution_count": 10,
     "metadata": {},
     "output_type": "execute_result"
    }
   ],
   "source": [
    "gamma1/gamma_ref"
   ]
  },
  {
   "cell_type": "code",
   "execution_count": 12,
   "id": "a6ede1bd-bf92-4486-a513-ebfd1c297c6b",
   "metadata": {},
   "outputs": [
    {
     "name": "stdout",
     "output_type": "stream",
     "text": [
      "beta1:  0.8421016427836548\n"
     ]
    }
   ],
   "source": [
    "betagamma1 = np.sqrt(gamma1**2-1)\n",
    "beta1 = betagamma1/gamma1\n",
    "print('beta1: ', beta1)"
   ]
  },
  {
   "cell_type": "code",
   "execution_count": 13,
   "id": "0b8047d7-d786-48b7-9386-ab9dbe791ecc",
   "metadata": {},
   "outputs": [
    {
     "name": "stdout",
     "output_type": "stream",
     "text": [
      "R0:  45.83662361046586\n",
      "R1:  45.89106423537947\n"
     ]
    }
   ],
   "source": [
    "angle = np.pi/36\n",
    "L = 4.0\n",
    "\n",
    "R0 = L/angle\n",
    "R1 = R0 * betagamma1/beta_gamma_ref\n",
    "\n",
    "print('R0: ', R0)\n",
    "print('R1: ', R1)\n",
    "\n",
    "D = R1-R0\n",
    "sec2 = 1.0/np.cos(angle)**2\n",
    "# solve\n",
    "# y^2 sec^2 theta + 2 D y + D^2-R1^2 = 0\n",
    "#\n",
    "\n",
    "y = ( -2*D + np.sqrt(4*D**2 - 4*sec2*(D**2 - R1**2)) )/(2*sec2)\n",
    "x = y * np.tan(angle)\n",
    "angle2 = np.arctan2(x, y+D)\n",
    "L2 = R1*angle2\n",
    "\n",
    "t_expected = L2/beta1 - L/beta_ref\n"
   ]
  },
  {
   "cell_type": "code",
   "execution_count": 14,
   "id": "1ba4ab91-ead0-42d4-a59b-b9fb0e0cf3bc",
   "metadata": {},
   "outputs": [
    {
     "data": {
      "text/plain": [
       "np.float64(0.054440624913610236)"
      ]
     },
     "execution_count": 14,
     "metadata": {},
     "output_type": "execute_result"
    }
   ],
   "source": [
    "D"
   ]
  },
  {
   "cell_type": "code",
   "execution_count": 15,
   "id": "ae1cd5a9-2522-496e-8d38-0485e4520c7c",
   "metadata": {},
   "outputs": [
    {
     "name": "stdout",
     "output_type": "stream",
     "text": [
      "3.9949430098828964 45.66240754951233\n"
     ]
    }
   ],
   "source": [
    "print(x, y)"
   ]
  },
  {
   "cell_type": "code",
   "execution_count": 16,
   "id": "06d6771a-af24-42c3-bc9c-d5759f8e50a2",
   "metadata": {},
   "outputs": [
    {
     "data": {
      "text/plain": [
       "np.float64(0.08716306963667449)"
      ]
     },
     "execution_count": 16,
     "metadata": {},
     "output_type": "execute_result"
    }
   ],
   "source": [
    "angle2"
   ]
  },
  {
   "cell_type": "code",
   "execution_count": 17,
   "id": "ebda1615-2da4-4572-808a-1f7a38a05bdd",
   "metadata": {},
   "outputs": [
    {
     "data": {
      "text/plain": [
       "0.08726646259971647"
      ]
     },
     "execution_count": 17,
     "metadata": {},
     "output_type": "execute_result"
    }
   ],
   "source": [
    "angle"
   ]
  },
  {
   "cell_type": "code",
   "execution_count": 18,
   "id": "d00d8ecd-c056-4cf6-9d7a-92695db51c8d",
   "metadata": {},
   "outputs": [
    {
     "data": {
      "text/plain": [
       "np.float64(4.000006027649483)"
      ]
     },
     "execution_count": 18,
     "metadata": {},
     "output_type": "execute_result"
    }
   ],
   "source": [
    "L2"
   ]
  },
  {
   "cell_type": "code",
   "execution_count": 19,
   "id": "4ba0deee-5325-45b4-96e1-2e5d7fea37ea",
   "metadata": {},
   "outputs": [
    {
     "data": {
      "text/plain": [
       "4.0"
      ]
     },
     "execution_count": 19,
     "metadata": {},
     "output_type": "execute_result"
    }
   ],
   "source": [
    "L"
   ]
  },
  {
   "cell_type": "code",
   "execution_count": 20,
   "id": "4a95d1fe-55e3-4280-a5f4-483047c331b0",
   "metadata": {},
   "outputs": [
    {
     "data": {
      "text/plain": [
       "np.float64(-0.0016344897900451016)"
      ]
     },
     "execution_count": 20,
     "metadata": {},
     "output_type": "execute_result"
    }
   ],
   "source": [
    "L2/beta1 - L/beta_ref"
   ]
  },
  {
   "cell_type": "code",
   "execution_count": null,
   "id": "3afc5e77-aafe-4b88-a945-9cdca23ae309",
   "metadata": {},
   "outputs": [],
   "source": []
  }
 ],
 "metadata": {
  "kernelspec": {
   "display_name": "Python 3 (ipykernel)",
   "language": "python",
   "name": "python3"
  },
  "language_info": {
   "codemirror_mode": {
    "name": "ipython",
    "version": 3
   },
   "file_extension": ".py",
   "mimetype": "text/x-python",
   "name": "python",
   "nbconvert_exporter": "python",
   "pygments_lexer": "ipython3",
   "version": "3.13.2"
  }
 },
 "nbformat": 4,
 "nbformat_minor": 5
}
