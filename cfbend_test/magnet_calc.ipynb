{
 "cells": [
  {
   "cell_type": "markdown",
   "id": "859d3bac-418c-4c36-972c-719fb17301c2",
   "metadata": {},
   "source": [
    "# combined function magnet"
   ]
  },
  {
   "cell_type": "markdown",
   "id": "06d30b88-c2af-48bd-b609-0833946184e0",
   "metadata": {},
   "source": [
    "Approximate Booster circumference is 480 m. About 60& of the circumference is made of magnets. The tunes are\n",
    "about 6.6, 6.7. Determine approximate k1 values?"
   ]
  },
  {
   "cell_type": "code",
   "execution_count": 3,
   "id": "176d2e2c-5ffa-4533-8350-a6e2853fcfe6",
   "metadata": {},
   "outputs": [],
   "source": [
    "import sys, os\n",
    "import numpy as np\n",
    "import matplotlib.pyplot as plt"
   ]
  },
  {
   "cell_type": "code",
   "execution_count": 4,
   "id": "a96414cb-cd37-40f1-8402-9e1252fa4cd0",
   "metadata": {},
   "outputs": [],
   "source": [
    "C = 480.0\n",
    "magnet_l = 0.6*C\n",
    "tune = 6.6\n",
    "total_PA = 2.0*np.pi * tune"
   ]
  },
  {
   "cell_type": "code",
   "execution_count": 7,
   "id": "5ae72905-6708-457b-babe-ec7ba206c26a",
   "metadata": {},
   "outputs": [
    {
     "name": "stdout",
     "output_type": "stream",
     "text": [
      "avg beta:  6.944942971282706\n"
     ]
    }
   ],
   "source": [
    "# total_PA = L * <1/beta>\n",
    "betaavg = magnet_l/total_PA\n",
    "print('avg beta: ', betaavg)"
   ]
  },
  {
   "cell_type": "code",
   "execution_count": 8,
   "id": "09e3af9c-14af-4532-beb4-d66ebac65f2e",
   "metadata": {},
   "outputs": [
    {
     "name": "stdout",
     "output_type": "stream",
     "text": [
      "k1:  0.02411438531695384\n"
     ]
    }
   ],
   "source": [
    "# in one-turn-map, 1/beta is approximately 1/f and f is 1/kL where L is magnet length\n",
    "# so beta = kL\n",
    "k1 = betaavg/magnet_l\n",
    "print('k1: ', k1)\n"
   ]
  },
  {
   "cell_type": "markdown",
   "id": "e5e9e0e3-8cfb-4509-840a-46dc20e6e20d",
   "metadata": {},
   "source": [
    "How does this compare to the regular Booster magnets?\n",
    "\n",
    "```\n",
    "rhof  :=  40.847086;   !  bending radius of focusing magnet\n",
    "rhod  :=  48.034101;   !  bending radius of defocusing magnet\n",
    "\n",
    "blength :=     2.889612;    !  arc length for both F and D magnets\n",
    "blengthf :=    2.889009499; !  physical length (straight length) for F magnet\n",
    "blengthd :=    2.889176299; !  physical length (straight length) for D magnet\n",
    "\n",
    "\n",
    "!\n",
    "! The quad field for the gradient magnet is contained in file \" qsdqsf.dat\" to be read in before this file !\n",
    "!\n",
    "! read from file at time step = 7\n",
    "qsd := -57.38855012e-3;\n",
    "qsf := 54.10921561e-3;\n",
    "\n",
    "\n",
    "! These ssd and ssf strengths come from fitting to 01 Dec 2015 chromaticity data\n",
    "! and predicts chromaticity much better than using the Drozhdin et al measurements above\n",
    "\n",
    "ssd :=  -0.04381647074 + ke1*(0.009150934932+ ke1*(-0.0023900895  + ke1*(0.000318068028 -  ke1* 1.6353205e-05)));\n",
    "\n",
    "ssf :=  -0.006384940088 + ke1*(0.01967542848 + ke1*( -0.006776746 + ke1*(0.00091367565 - ke1* 4.293705e-05)));\n",
    "\n",
    " !\n",
    " ! Gradient magnets defined by their physical length aith their bend angle\n",
    " ! being defined by the arc length/radius of curvature\n",
    "\n",
    "!FMAG: RBEND,  L = blengthf  , ANGLE = blength/rhof, K1 = qsf  , K2 = ssf;\n",
    "FMAG: SBEND,  L = blength  , ANGLE = blength/rhof, e1=blength/(2*rhof), e2=blength/(2*rhof), K1 = qsf  , K2 = ssf, type=fmag;\n",
    "DMAG: SBEND,  L = blength  , ANGLE = blength/rhod, e1=blength/(2*rhod), e2=blength/(2*rhod), K1 = qsd  , K2 = ssd, type=dmag;\n",
    "```\n"
   ]
  },
  {
   "cell_type": "code",
   "execution_count": 10,
   "id": "aa88d6d0-922d-48b1-a7bd-7e0b26512b1b",
   "metadata": {},
   "outputs": [],
   "source": [
    "# The MAD-X file has k1 ~ 0.05 instead of calculated ~0.024 because it is an alternating gradient"
   ]
  },
  {
   "cell_type": "code",
   "execution_count": 12,
   "id": "a249deea-e555-4073-bf94-83f5adcdcf05",
   "metadata": {},
   "outputs": [
    {
     "name": "stdout",
     "output_type": "stream",
     "text": [
      "avg R:  76.39437268410977\n"
     ]
    }
   ],
   "source": [
    "print('avg R: ', C/(2*np.pi))"
   ]
  },
  {
   "cell_type": "code",
   "execution_count": null,
   "id": "07acdd7e-ad5a-47b9-bec4-09f886f89bea",
   "metadata": {},
   "outputs": [],
   "source": []
  }
 ],
 "metadata": {
  "kernelspec": {
   "display_name": "Python 3 (ipykernel)",
   "language": "python",
   "name": "python3"
  },
  "language_info": {
   "codemirror_mode": {
    "name": "ipython",
    "version": 3
   },
   "file_extension": ".py",
   "mimetype": "text/x-python",
   "name": "python",
   "nbconvert_exporter": "python",
   "pygments_lexer": "ipython3",
   "version": "3.13.2"
  }
 },
 "nbformat": 4,
 "nbformat_minor": 5
}
