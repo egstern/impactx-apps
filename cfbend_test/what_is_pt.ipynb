{
 "cells": [
  {
   "cell_type": "code",
   "execution_count": 1,
   "id": "5ef27bf5-3b29-41f9-9246-aa982c38ed67",
   "metadata": {},
   "outputs": [
    {
     "name": "stderr",
     "output_type": "stream",
     "text": [
      "Kokkos::OpenMP::initialize WARNING: OMP_PROC_BIND environment variable not set\n",
      "  In general, for best performance with OpenMP 4.0 or better set OMP_PROC_BIND=spread and OMP_PLACES=threads\n",
      "  For best performance with OpenMP 3.1 set OMP_PROC_BIND=true\n",
      "  For unit testing set OMP_PROC_BIND=false\n",
      "\n"
     ]
    }
   ],
   "source": [
    "import sys, os\n",
    "import numpy as np\n",
    "import matplotlib.pyplot as plt\n",
    "import synergia"
   ]
  },
  {
   "cell_type": "code",
   "execution_count": 2,
   "id": "ce93b8cf-85e8-4539-b1aa-b33478f6ea66",
   "metadata": {},
   "outputs": [],
   "source": [
    "mp = synergia.foundation.pconstants.mp\n",
    "refpart = synergia.foundation.Reference_particle(1, mp, mp+0.8)"
   ]
  },
  {
   "cell_type": "code",
   "execution_count": 8,
   "id": "ea4d1150-b0f6-4bd1-86a2-e85cbc13b63c",
   "metadata": {},
   "outputs": [
    {
     "data": {
      "text/plain": [
       "1.4632960307470255"
      ]
     },
     "execution_count": 8,
     "metadata": {},
     "output_type": "execute_result"
    }
   ],
   "source": [
    "dpop = 5.0e-3\n",
    "pref = refpart.get_momentum()\n",
    "pref"
   ]
  },
  {
   "cell_type": "code",
   "execution_count": 9,
   "id": "b7b15f2a-a082-4f68-8c99-16b3e49f781a",
   "metadata": {},
   "outputs": [
    {
     "name": "stdout",
     "output_type": "stream",
     "text": [
      "dE:  0.006163561731871825\n"
     ]
    }
   ],
   "source": [
    "p = pref*(1+dpop)\n",
    "etot = np.sqrt(p**2 + mp**2)\n",
    "eref = refpart.get_total_energy()\n",
    "dE = etot-eref\n",
    "print('dE: ', dE)"
   ]
  },
  {
   "cell_type": "code",
   "execution_count": 10,
   "id": "c864ba1e-3ffe-478b-9945-b093a33944e3",
   "metadata": {},
   "outputs": [
    {
     "name": "stdout",
     "output_type": "stream",
     "text": [
      "dE/pref:  0.004212108556547695\n"
     ]
    }
   ],
   "source": [
    "print('dE/pref: ', dE/pref)"
   ]
  },
  {
   "cell_type": "code",
   "execution_count": 7,
   "id": "111de727-1dac-454b-a27d-6b824b35502d",
   "metadata": {},
   "outputs": [
    {
     "name": "stdout",
     "output_type": "stream",
     "text": [
      "beta*dpop:  0.004209053565908364\n"
     ]
    }
   ],
   "source": [
    "print('beta*dpop: ', dpop*refpart.get_beta())"
   ]
  },
  {
   "cell_type": "code",
   "execution_count": null,
   "id": "93183da9-fe1f-447a-95e0-14bfddf87096",
   "metadata": {},
   "outputs": [],
   "source": []
  }
 ],
 "metadata": {
  "kernelspec": {
   "display_name": "Python 3 (ipykernel)",
   "language": "python",
   "name": "python3"
  },
  "language_info": {
   "codemirror_mode": {
    "name": "ipython",
    "version": 3
   },
   "file_extension": ".py",
   "mimetype": "text/x-python",
   "name": "python",
   "nbconvert_exporter": "python",
   "pygments_lexer": "ipython3",
   "version": "3.13.2"
  }
 },
 "nbformat": 4,
 "nbformat_minor": 5
}
