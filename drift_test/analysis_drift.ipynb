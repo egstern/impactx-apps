{
 "cells": [
  {
   "cell_type": "code",
   "execution_count": 1,
   "id": "5b18866f-b31d-432e-b4f5-b0b97eec51fe",
   "metadata": {},
   "outputs": [],
   "source": [
    "import numpy as np\n",
    "import openpmd_api as io\n",
    "from scipy.stats import moment"
   ]
  },
  {
   "cell_type": "code",
   "execution_count": 2,
   "id": "6c996737-f5e9-412a-b9ec-5014e7da1ecd",
   "metadata": {},
   "outputs": [],
   "source": [
    "series = io.Series(\"diags/openPMD/monitor.h5\", io.Access.read_only)"
   ]
  },
  {
   "cell_type": "code",
   "execution_count": 5,
   "id": "fd1db9ea-b2cd-46ce-a1bc-24437e9df144",
   "metadata": {},
   "outputs": [
    {
     "name": "stdout",
     "output_type": "stream",
     "text": [
      "[1, 3]\n"
     ]
    }
   ],
   "source": [
    "iterations = list(series.iterations)\n",
    "print(iterations)"
   ]
  },
  {
   "cell_type": "code",
   "execution_count": 7,
   "id": "a9c114c6-8294-433a-beb9-742e85a67954",
   "metadata": {},
   "outputs": [],
   "source": [
    "start = series.iterations[iterations[0]]"
   ]
  },
  {
   "cell_type": "code",
   "execution_count": 8,
   "id": "e301f778-23ee-4aee-b86e-65a4639a7439",
   "metadata": {},
   "outputs": [],
   "source": [
    "finish = series.iterations[iterations[-1]]"
   ]
  },
  {
   "cell_type": "code",
   "execution_count": 9,
   "id": "c11bfda0-3bb3-45db-a36b-2d5dfcb231ca",
   "metadata": {},
   "outputs": [
    {
     "data": {
      "text/plain": [
       "['__class__',\n",
       " '__delattr__',\n",
       " '__dir__',\n",
       " '__doc__',\n",
       " '__eq__',\n",
       " '__format__',\n",
       " '__ge__',\n",
       " '__getattribute__',\n",
       " '__getstate__',\n",
       " '__gt__',\n",
       " '__hash__',\n",
       " '__init__',\n",
       " '__init_subclass__',\n",
       " '__le__',\n",
       " '__lt__',\n",
       " '__module__',\n",
       " '__ne__',\n",
       " '__new__',\n",
       " '__reduce__',\n",
       " '__reduce_ex__',\n",
       " '__repr__',\n",
       " '__setattr__',\n",
       " '__setstate__',\n",
       " '__sizeof__',\n",
       " '__str__',\n",
       " '__subclasshook__',\n",
       " '_pybind11_conduit_v1_',\n",
       " 'attribute_dtypes',\n",
       " 'attributes',\n",
       " 'close',\n",
       " 'comment',\n",
       " 'contains_attribute',\n",
       " 'delete_attribute',\n",
       " 'dt',\n",
       " 'get_attribute',\n",
       " 'iteration_flush',\n",
       " 'meshes',\n",
       " 'my_path',\n",
       " 'open',\n",
       " 'particles',\n",
       " 'series_flush',\n",
       " 'set_attribute',\n",
       " 'set_comment',\n",
       " 'set_dt',\n",
       " 'set_time',\n",
       " 'set_time_unit_SI',\n",
       " 'time',\n",
       " 'time_unit_SI']"
      ]
     },
     "execution_count": 9,
     "metadata": {},
     "output_type": "execute_result"
    }
   ],
   "source": [
    "dir(start)"
   ]
  },
  {
   "cell_type": "code",
   "execution_count": 10,
   "id": "389fac99-1528-41b2-8e07-d5befe974817",
   "metadata": {},
   "outputs": [
    {
     "data": {
      "text/plain": [
       "<openPMD.Particle_Container with 1 entry and 0 attribute(s)>"
      ]
     },
     "execution_count": 10,
     "metadata": {},
     "output_type": "execute_result"
    }
   ],
   "source": [
    "start.particles"
   ]
  },
  {
   "cell_type": "code",
   "execution_count": 18,
   "id": "5897075c-4b40-4615-b3d6-9d4495c5c514",
   "metadata": {},
   "outputs": [
    {
     "name": "stdout",
     "output_type": "stream",
     "text": [
      "[('beam', <openPMD.ParticleSpecies with 6 record(s) and 55 attribute(s)>)]\n"
     ]
    }
   ],
   "source": [
    "print(list(start.particles.items()))"
   ]
  },
  {
   "cell_type": "code",
   "execution_count": 19,
   "id": "06e12258-3f6d-4d56-a97a-309487ad502e",
   "metadata": {},
   "outputs": [],
   "source": [
    "start_beam = start.particles[\"beam\"].to_df()"
   ]
  },
  {
   "cell_type": "code",
   "execution_count": 20,
   "id": "74890b1a-cd75-4732-b9b9-0f60d622ec2a",
   "metadata": {},
   "outputs": [],
   "source": [
    "finish_beam = finish.particles[\"beam\"].to_df()"
   ]
  },
  {
   "cell_type": "code",
   "execution_count": 23,
   "id": "34223f76-2eaf-44e3-b73d-af5d3954a67c",
   "metadata": {
    "scrolled": true
   },
   "outputs": [
    {
     "data": {
      "text/html": [
       "<div>\n",
       "<style scoped>\n",
       "    .dataframe tbody tr th:only-of-type {\n",
       "        vertical-align: middle;\n",
       "    }\n",
       "\n",
       "    .dataframe tbody tr th {\n",
       "        vertical-align: top;\n",
       "    }\n",
       "\n",
       "    .dataframe thead th {\n",
       "        text-align: right;\n",
       "    }\n",
       "</style>\n",
       "<table border=\"1\" class=\"dataframe\">\n",
       "  <thead>\n",
       "    <tr style=\"text-align: right;\">\n",
       "      <th></th>\n",
       "      <th>id</th>\n",
       "      <th>momentum_t</th>\n",
       "      <th>momentum_x</th>\n",
       "      <th>momentum_y</th>\n",
       "      <th>position_t</th>\n",
       "      <th>position_x</th>\n",
       "      <th>position_y</th>\n",
       "      <th>positionOffset_t</th>\n",
       "      <th>positionOffset_x</th>\n",
       "      <th>positionOffset_y</th>\n",
       "      <th>qm</th>\n",
       "      <th>weighting</th>\n",
       "    </tr>\n",
       "    <tr>\n",
       "      <th>row</th>\n",
       "      <th></th>\n",
       "      <th></th>\n",
       "      <th></th>\n",
       "      <th></th>\n",
       "      <th></th>\n",
       "      <th></th>\n",
       "      <th></th>\n",
       "      <th></th>\n",
       "      <th></th>\n",
       "      <th></th>\n",
       "      <th></th>\n",
       "      <th></th>\n",
       "    </tr>\n",
       "  </thead>\n",
       "  <tbody>\n",
       "    <tr>\n",
       "      <th>0</th>\n",
       "      <td>9223372036871553024</td>\n",
       "      <td>0.00</td>\n",
       "      <td>0.000</td>\n",
       "      <td>0.000</td>\n",
       "      <td>0.0</td>\n",
       "      <td>0.000</td>\n",
       "      <td>0.000</td>\n",
       "      <td>0.0</td>\n",
       "      <td>0.0</td>\n",
       "      <td>0.0</td>\n",
       "      <td>1.065789e-09</td>\n",
       "      <td>5.201258e+27</td>\n",
       "    </tr>\n",
       "    <tr>\n",
       "      <th>1</th>\n",
       "      <td>9223372036888330240</td>\n",
       "      <td>0.00</td>\n",
       "      <td>0.002</td>\n",
       "      <td>0.000</td>\n",
       "      <td>0.0</td>\n",
       "      <td>-0.001</td>\n",
       "      <td>0.000</td>\n",
       "      <td>0.0</td>\n",
       "      <td>0.0</td>\n",
       "      <td>0.0</td>\n",
       "      <td>1.065789e-09</td>\n",
       "      <td>5.201258e+27</td>\n",
       "    </tr>\n",
       "    <tr>\n",
       "      <th>2</th>\n",
       "      <td>9223372036905107456</td>\n",
       "      <td>0.01</td>\n",
       "      <td>0.000</td>\n",
       "      <td>0.000</td>\n",
       "      <td>0.0</td>\n",
       "      <td>0.000</td>\n",
       "      <td>0.000</td>\n",
       "      <td>0.0</td>\n",
       "      <td>0.0</td>\n",
       "      <td>0.0</td>\n",
       "      <td>1.065789e-09</td>\n",
       "      <td>5.201258e+27</td>\n",
       "    </tr>\n",
       "    <tr>\n",
       "      <th>3</th>\n",
       "      <td>9223372036921884672</td>\n",
       "      <td>0.01</td>\n",
       "      <td>0.000</td>\n",
       "      <td>0.002</td>\n",
       "      <td>0.0</td>\n",
       "      <td>0.000</td>\n",
       "      <td>-0.001</td>\n",
       "      <td>0.0</td>\n",
       "      <td>0.0</td>\n",
       "      <td>0.0</td>\n",
       "      <td>1.065789e-09</td>\n",
       "      <td>5.201258e+27</td>\n",
       "    </tr>\n",
       "    <tr>\n",
       "      <th>4</th>\n",
       "      <td>9223372036938661888</td>\n",
       "      <td>-0.01</td>\n",
       "      <td>0.000</td>\n",
       "      <td>0.000</td>\n",
       "      <td>0.0</td>\n",
       "      <td>0.000</td>\n",
       "      <td>0.000</td>\n",
       "      <td>0.0</td>\n",
       "      <td>0.0</td>\n",
       "      <td>0.0</td>\n",
       "      <td>1.065789e-09</td>\n",
       "      <td>5.201258e+27</td>\n",
       "    </tr>\n",
       "    <tr>\n",
       "      <th>5</th>\n",
       "      <td>9223372036955439104</td>\n",
       "      <td>-0.01</td>\n",
       "      <td>-0.002</td>\n",
       "      <td>0.000</td>\n",
       "      <td>0.0</td>\n",
       "      <td>0.001</td>\n",
       "      <td>0.000</td>\n",
       "      <td>0.0</td>\n",
       "      <td>0.0</td>\n",
       "      <td>0.0</td>\n",
       "      <td>1.065789e-09</td>\n",
       "      <td>5.201258e+27</td>\n",
       "    </tr>\n",
       "  </tbody>\n",
       "</table>\n",
       "</div>"
      ],
      "text/plain": [
       "                      id  momentum_t  momentum_x  momentum_y  position_t  \\\n",
       "row                                                                        \n",
       "0    9223372036871553024        0.00       0.000       0.000         0.0   \n",
       "1    9223372036888330240        0.00       0.002       0.000         0.0   \n",
       "2    9223372036905107456        0.01       0.000       0.000         0.0   \n",
       "3    9223372036921884672        0.01       0.000       0.002         0.0   \n",
       "4    9223372036938661888       -0.01       0.000       0.000         0.0   \n",
       "5    9223372036955439104       -0.01      -0.002       0.000         0.0   \n",
       "\n",
       "     position_x  position_y  positionOffset_t  positionOffset_x  \\\n",
       "row                                                               \n",
       "0         0.000       0.000               0.0               0.0   \n",
       "1        -0.001       0.000               0.0               0.0   \n",
       "2         0.000       0.000               0.0               0.0   \n",
       "3         0.000      -0.001               0.0               0.0   \n",
       "4         0.000       0.000               0.0               0.0   \n",
       "5         0.001       0.000               0.0               0.0   \n",
       "\n",
       "     positionOffset_y            qm     weighting  \n",
       "row                                                \n",
       "0                 0.0  1.065789e-09  5.201258e+27  \n",
       "1                 0.0  1.065789e-09  5.201258e+27  \n",
       "2                 0.0  1.065789e-09  5.201258e+27  \n",
       "3                 0.0  1.065789e-09  5.201258e+27  \n",
       "4                 0.0  1.065789e-09  5.201258e+27  \n",
       "5                 0.0  1.065789e-09  5.201258e+27  "
      ]
     },
     "execution_count": 23,
     "metadata": {},
     "output_type": "execute_result"
    }
   ],
   "source": [
    "start_beam.head(6)"
   ]
  },
  {
   "cell_type": "code",
   "execution_count": 24,
   "id": "9c677fcd-a789-456a-938b-82173a9dcc3d",
   "metadata": {},
   "outputs": [
    {
     "data": {
      "text/html": [
       "<div>\n",
       "<style scoped>\n",
       "    .dataframe tbody tr th:only-of-type {\n",
       "        vertical-align: middle;\n",
       "    }\n",
       "\n",
       "    .dataframe tbody tr th {\n",
       "        vertical-align: top;\n",
       "    }\n",
       "\n",
       "    .dataframe thead th {\n",
       "        text-align: right;\n",
       "    }\n",
       "</style>\n",
       "<table border=\"1\" class=\"dataframe\">\n",
       "  <thead>\n",
       "    <tr style=\"text-align: right;\">\n",
       "      <th></th>\n",
       "      <th>id</th>\n",
       "      <th>momentum_t</th>\n",
       "      <th>momentum_x</th>\n",
       "      <th>momentum_y</th>\n",
       "      <th>position_t</th>\n",
       "      <th>position_x</th>\n",
       "      <th>position_y</th>\n",
       "      <th>positionOffset_t</th>\n",
       "      <th>positionOffset_x</th>\n",
       "      <th>positionOffset_y</th>\n",
       "      <th>qm</th>\n",
       "      <th>weighting</th>\n",
       "    </tr>\n",
       "    <tr>\n",
       "      <th>row</th>\n",
       "      <th></th>\n",
       "      <th></th>\n",
       "      <th></th>\n",
       "      <th></th>\n",
       "      <th></th>\n",
       "      <th></th>\n",
       "      <th></th>\n",
       "      <th></th>\n",
       "      <th></th>\n",
       "      <th></th>\n",
       "      <th></th>\n",
       "      <th></th>\n",
       "    </tr>\n",
       "  </thead>\n",
       "  <tbody>\n",
       "    <tr>\n",
       "      <th>0</th>\n",
       "      <td>9223372036871553024</td>\n",
       "      <td>0.00</td>\n",
       "      <td>0.000</td>\n",
       "      <td>0.000</td>\n",
       "      <td>0.000000</td>\n",
       "      <td>0.000</td>\n",
       "      <td>0.000</td>\n",
       "      <td>1.187916</td>\n",
       "      <td>0.0</td>\n",
       "      <td>0.0</td>\n",
       "      <td>1.065789e-09</td>\n",
       "      <td>5.201258e+27</td>\n",
       "    </tr>\n",
       "    <tr>\n",
       "      <th>1</th>\n",
       "      <td>9223372036888330240</td>\n",
       "      <td>0.00</td>\n",
       "      <td>0.002</td>\n",
       "      <td>0.000</td>\n",
       "      <td>0.000000</td>\n",
       "      <td>0.001</td>\n",
       "      <td>0.000</td>\n",
       "      <td>1.187916</td>\n",
       "      <td>0.0</td>\n",
       "      <td>0.0</td>\n",
       "      <td>1.065789e-09</td>\n",
       "      <td>5.201258e+27</td>\n",
       "    </tr>\n",
       "    <tr>\n",
       "      <th>2</th>\n",
       "      <td>9223372036905107456</td>\n",
       "      <td>0.01</td>\n",
       "      <td>0.000</td>\n",
       "      <td>0.000</td>\n",
       "      <td>0.004111</td>\n",
       "      <td>0.000</td>\n",
       "      <td>0.000</td>\n",
       "      <td>1.187916</td>\n",
       "      <td>0.0</td>\n",
       "      <td>0.0</td>\n",
       "      <td>1.065789e-09</td>\n",
       "      <td>5.201258e+27</td>\n",
       "    </tr>\n",
       "    <tr>\n",
       "      <th>3</th>\n",
       "      <td>9223372036921884672</td>\n",
       "      <td>0.01</td>\n",
       "      <td>0.000</td>\n",
       "      <td>0.002</td>\n",
       "      <td>0.004111</td>\n",
       "      <td>0.000</td>\n",
       "      <td>0.001</td>\n",
       "      <td>1.187916</td>\n",
       "      <td>0.0</td>\n",
       "      <td>0.0</td>\n",
       "      <td>1.065789e-09</td>\n",
       "      <td>5.201258e+27</td>\n",
       "    </tr>\n",
       "    <tr>\n",
       "      <th>4</th>\n",
       "      <td>9223372036938661888</td>\n",
       "      <td>-0.01</td>\n",
       "      <td>0.000</td>\n",
       "      <td>0.000</td>\n",
       "      <td>-0.004111</td>\n",
       "      <td>0.000</td>\n",
       "      <td>0.000</td>\n",
       "      <td>1.187916</td>\n",
       "      <td>0.0</td>\n",
       "      <td>0.0</td>\n",
       "      <td>1.065789e-09</td>\n",
       "      <td>5.201258e+27</td>\n",
       "    </tr>\n",
       "    <tr>\n",
       "      <th>5</th>\n",
       "      <td>9223372036955439104</td>\n",
       "      <td>-0.01</td>\n",
       "      <td>-0.002</td>\n",
       "      <td>0.000</td>\n",
       "      <td>-0.004111</td>\n",
       "      <td>-0.001</td>\n",
       "      <td>0.000</td>\n",
       "      <td>1.187916</td>\n",
       "      <td>0.0</td>\n",
       "      <td>0.0</td>\n",
       "      <td>1.065789e-09</td>\n",
       "      <td>5.201258e+27</td>\n",
       "    </tr>\n",
       "  </tbody>\n",
       "</table>\n",
       "</div>"
      ],
      "text/plain": [
       "                      id  momentum_t  momentum_x  momentum_y  position_t  \\\n",
       "row                                                                        \n",
       "0    9223372036871553024        0.00       0.000       0.000    0.000000   \n",
       "1    9223372036888330240        0.00       0.002       0.000    0.000000   \n",
       "2    9223372036905107456        0.01       0.000       0.000    0.004111   \n",
       "3    9223372036921884672        0.01       0.000       0.002    0.004111   \n",
       "4    9223372036938661888       -0.01       0.000       0.000   -0.004111   \n",
       "5    9223372036955439104       -0.01      -0.002       0.000   -0.004111   \n",
       "\n",
       "     position_x  position_y  positionOffset_t  positionOffset_x  \\\n",
       "row                                                               \n",
       "0         0.000       0.000          1.187916               0.0   \n",
       "1         0.001       0.000          1.187916               0.0   \n",
       "2         0.000       0.000          1.187916               0.0   \n",
       "3         0.000       0.001          1.187916               0.0   \n",
       "4         0.000       0.000          1.187916               0.0   \n",
       "5        -0.001       0.000          1.187916               0.0   \n",
       "\n",
       "     positionOffset_y            qm     weighting  \n",
       "row                                                \n",
       "0                 0.0  1.065789e-09  5.201258e+27  \n",
       "1                 0.0  1.065789e-09  5.201258e+27  \n",
       "2                 0.0  1.065789e-09  5.201258e+27  \n",
       "3                 0.0  1.065789e-09  5.201258e+27  \n",
       "4                 0.0  1.065789e-09  5.201258e+27  \n",
       "5                 0.0  1.065789e-09  5.201258e+27  "
      ]
     },
     "execution_count": 24,
     "metadata": {},
     "output_type": "execute_result"
    }
   ],
   "source": [
    "finish_beam.head(6)"
   ]
  },
  {
   "cell_type": "code",
   "execution_count": 25,
   "id": "ac276ea7-7c0d-419d-9625-ca699408fc1d",
   "metadata": {},
   "outputs": [
    {
     "data": {
      "text/plain": [
       "np.float64(0.0009999960000120003)"
      ]
     },
     "execution_count": 25,
     "metadata": {},
     "output_type": "execute_result"
    }
   ],
   "source": [
    "finish_beam['position_x'][1]"
   ]
  },
  {
   "cell_type": "code",
   "execution_count": 27,
   "id": "5e06d363-8c19-4972-86ce-a39af4939900",
   "metadata": {},
   "outputs": [
    {
     "data": {
      "text/plain": [
       "False"
      ]
     },
     "execution_count": 27,
     "metadata": {},
     "output_type": "execute_result"
    }
   ],
   "source": [
    "atol=0\n",
    "rtol=1.0e-14\n",
    "np.allclose(finish_beam['position_x'][1], 0.001, atol=0.0, rtol=1.0e-14)"
   ]
  },
  {
   "cell_type": "code",
   "execution_count": 29,
   "id": "b5467a12-0ba6-4e5b-9ff7-05a4c952af73",
   "metadata": {},
   "outputs": [
    {
     "data": {
      "text/plain": [
       "np.float64(-3.9999879997143495e-06)"
      ]
     },
     "execution_count": 29,
     "metadata": {},
     "output_type": "execute_result"
    }
   ],
   "source": [
    "finish_beam['position_x'][1]/0.001 - 1"
   ]
  },
  {
   "cell_type": "code",
   "execution_count": 30,
   "id": "db0be22b-2e6f-49f2-a51b-4c35f8efe922",
   "metadata": {},
   "outputs": [
    {
     "data": {
      "text/plain": [
       "['__bool__',\n",
       " '__class__',\n",
       " '__delattr__',\n",
       " '__dir__',\n",
       " '__doc__',\n",
       " '__eq__',\n",
       " '__format__',\n",
       " '__ge__',\n",
       " '__getattribute__',\n",
       " '__getstate__',\n",
       " '__gt__',\n",
       " '__hash__',\n",
       " '__init__',\n",
       " '__init_subclass__',\n",
       " '__le__',\n",
       " '__len__',\n",
       " '__lt__',\n",
       " '__module__',\n",
       " '__ne__',\n",
       " '__new__',\n",
       " '__reduce__',\n",
       " '__reduce_ex__',\n",
       " '__repr__',\n",
       " '__setattr__',\n",
       " '__setstate__',\n",
       " '__sizeof__',\n",
       " '__str__',\n",
       " '__subclasshook__',\n",
       " '_pybind11_conduit_v1_',\n",
       " 'attribute_dtypes',\n",
       " 'attributes',\n",
       " 'author',\n",
       " 'backend',\n",
       " 'base_path',\n",
       " 'close',\n",
       " 'comment',\n",
       " 'contains_attribute',\n",
       " 'date',\n",
       " 'delete_attribute',\n",
       " 'flush',\n",
       " 'get_attribute',\n",
       " 'get_rank_table',\n",
       " 'iteration_encoding',\n",
       " 'iteration_flush',\n",
       " 'iteration_format',\n",
       " 'iterations',\n",
       " 'machine',\n",
       " 'meshes_path',\n",
       " 'my_path',\n",
       " 'name',\n",
       " 'openPMD',\n",
       " 'openPMD_extension',\n",
       " 'parse_base',\n",
       " 'particles_path',\n",
       " 'read_iterations',\n",
       " 'series_flush',\n",
       " 'set_attribute',\n",
       " 'set_author',\n",
       " 'set_base_path',\n",
       " 'set_comment',\n",
       " 'set_date',\n",
       " 'set_iteration_encoding',\n",
       " 'set_iteration_format',\n",
       " 'set_meshes_path',\n",
       " 'set_name',\n",
       " 'set_openPMD',\n",
       " 'set_openPMD_extension',\n",
       " 'set_particles_path',\n",
       " 'set_rank_table',\n",
       " 'set_software',\n",
       " 'set_software_version',\n",
       " 'software',\n",
       " 'software_version',\n",
       " 'to_cudf',\n",
       " 'to_df',\n",
       " 'write_iterations']"
      ]
     },
     "execution_count": 30,
     "metadata": {},
     "output_type": "execute_result"
    }
   ],
   "source": [
    "dir(series)"
   ]
  },
  {
   "cell_type": "code",
   "execution_count": 31,
   "id": "5b59f121-b43a-43f9-a634-515a8b42e5bc",
   "metadata": {},
   "outputs": [
    {
     "ename": "TypeError",
     "evalue": "iterations_to_dataframe() missing 1 required positional argument: 'species_name'",
     "output_type": "error",
     "traceback": [
      "\u001b[31m---------------------------------------------------------------------------\u001b[39m",
      "\u001b[31mTypeError\u001b[39m                                 Traceback (most recent call last)",
      "\u001b[36mCell\u001b[39m\u001b[36m \u001b[39m\u001b[32mIn[31]\u001b[39m\u001b[32m, line 1\u001b[39m\n\u001b[32m----> \u001b[39m\u001b[32m1\u001b[39m \u001b[43mseries\u001b[49m\u001b[43m.\u001b[49m\u001b[43mto_df\u001b[49m\u001b[43m(\u001b[49m\u001b[43m)\u001b[49m\n",
      "\u001b[31mTypeError\u001b[39m: iterations_to_dataframe() missing 1 required positional argument: 'species_name'"
     ]
    }
   ],
   "source": [
    "series.to_df()"
   ]
  },
  {
   "cell_type": "code",
   "execution_count": 32,
   "id": "80087ffb-3ce2-4be4-83e7-ed2a7f742b58",
   "metadata": {},
   "outputs": [
    {
     "data": {
      "text/plain": [
       "['basePath',\n",
       " 'date',\n",
       " 'iterationEncoding',\n",
       " 'iterationFormat',\n",
       " 'openPMD',\n",
       " 'openPMDextension',\n",
       " 'particlesPath',\n",
       " 'software',\n",
       " 'softwareVersion']"
      ]
     },
     "execution_count": 32,
     "metadata": {},
     "output_type": "execute_result"
    }
   ],
   "source": [
    "series.attributes"
   ]
  },
  {
   "cell_type": "code",
   "execution_count": 33,
   "id": "d134d8c8-4a25-444e-886a-0ffcafac49ea",
   "metadata": {},
   "outputs": [
    {
     "data": {
      "text/plain": [
       "['__class__',\n",
       " '__delattr__',\n",
       " '__dir__',\n",
       " '__doc__',\n",
       " '__eq__',\n",
       " '__format__',\n",
       " '__ge__',\n",
       " '__getattribute__',\n",
       " '__getstate__',\n",
       " '__gt__',\n",
       " '__hash__',\n",
       " '__init__',\n",
       " '__init_subclass__',\n",
       " '__le__',\n",
       " '__lt__',\n",
       " '__module__',\n",
       " '__ne__',\n",
       " '__new__',\n",
       " '__reduce__',\n",
       " '__reduce_ex__',\n",
       " '__repr__',\n",
       " '__setattr__',\n",
       " '__setstate__',\n",
       " '__sizeof__',\n",
       " '__str__',\n",
       " '__subclasshook__',\n",
       " '_pybind11_conduit_v1_',\n",
       " 'attribute_dtypes',\n",
       " 'attributes',\n",
       " 'close',\n",
       " 'comment',\n",
       " 'contains_attribute',\n",
       " 'delete_attribute',\n",
       " 'dt',\n",
       " 'get_attribute',\n",
       " 'iteration_flush',\n",
       " 'meshes',\n",
       " 'my_path',\n",
       " 'open',\n",
       " 'particles',\n",
       " 'series_flush',\n",
       " 'set_attribute',\n",
       " 'set_comment',\n",
       " 'set_dt',\n",
       " 'set_time',\n",
       " 'set_time_unit_SI',\n",
       " 'time',\n",
       " 'time_unit_SI']"
      ]
     },
     "execution_count": 33,
     "metadata": {},
     "output_type": "execute_result"
    }
   ],
   "source": [
    "dir(start)"
   ]
  },
  {
   "cell_type": "code",
   "execution_count": 34,
   "id": "4ecc78fc-ffc7-4549-8e7d-7727dc5548bb",
   "metadata": {},
   "outputs": [
    {
     "data": {
      "text/plain": [
       "['dt', 'time', 'timeUnitSI']"
      ]
     },
     "execution_count": 34,
     "metadata": {},
     "output_type": "execute_result"
    }
   ],
   "source": [
    "start.attributes"
   ]
  },
  {
   "cell_type": "code",
   "execution_count": 35,
   "id": "7072a781-1aff-4241-82e6-1ffa16e8c55f",
   "metadata": {},
   "outputs": [
    {
     "data": {
      "text/plain": [
       "['dt', 'time', 'timeUnitSI']"
      ]
     },
     "execution_count": 35,
     "metadata": {},
     "output_type": "execute_result"
    }
   ],
   "source": [
    "finish.attributes"
   ]
  },
  {
   "cell_type": "code",
   "execution_count": 41,
   "id": "9d9f38d3-c837-4a42-b70c-03f41ede7211",
   "metadata": {},
   "outputs": [
    {
     "data": {
      "text/plain": [
       "1.0"
      ]
     },
     "execution_count": 41,
     "metadata": {},
     "output_type": "execute_result"
    }
   ],
   "source": [
    "finish.get_attribute('timeUnitSI')"
   ]
  },
  {
   "cell_type": "code",
   "execution_count": 37,
   "id": "9f22864b-1b48-448f-8390-cc7edda6575d",
   "metadata": {},
   "outputs": [
    {
     "data": {
      "text/plain": [
       "1.0"
      ]
     },
     "execution_count": 37,
     "metadata": {},
     "output_type": "execute_result"
    }
   ],
   "source": [
    "finish.dt"
   ]
  },
  {
   "cell_type": "code",
   "execution_count": 40,
   "id": "a14f48b1-4747-4134-9739-c19a6c23c06f",
   "metadata": {},
   "outputs": [
    {
     "ename": "AttributeError",
     "evalue": "'openpmd_api.openpmd_api_cxx.Iteration' object has no attribute 'timeUnitSI'",
     "output_type": "error",
     "traceback": [
      "\u001b[31m---------------------------------------------------------------------------\u001b[39m",
      "\u001b[31mAttributeError\u001b[39m                            Traceback (most recent call last)",
      "\u001b[36mCell\u001b[39m\u001b[36m \u001b[39m\u001b[32mIn[40]\u001b[39m\u001b[32m, line 1\u001b[39m\n\u001b[32m----> \u001b[39m\u001b[32m1\u001b[39m \u001b[43mfinish\u001b[49m\u001b[43m.\u001b[49m\u001b[43mtimeUnitSI\u001b[49m\n",
      "\u001b[31mAttributeError\u001b[39m: 'openpmd_api.openpmd_api_cxx.Iteration' object has no attribute 'timeUnitSI'"
     ]
    }
   ],
   "source": [
    "finish.timeUnitSI"
   ]
  },
  {
   "cell_type": "code",
   "execution_count": 45,
   "id": "7ba8f4e0-6d15-4b6c-8835-08325676b8a6",
   "metadata": {},
   "outputs": [
    {
     "data": {
      "text/plain": [
       "['__bool__',\n",
       " '__class__',\n",
       " '__delattr__',\n",
       " '__delitem__',\n",
       " '__dir__',\n",
       " '__doc__',\n",
       " '__eq__',\n",
       " '__format__',\n",
       " '__ge__',\n",
       " '__getattribute__',\n",
       " '__getitem__',\n",
       " '__getstate__',\n",
       " '__gt__',\n",
       " '__hash__',\n",
       " '__init__',\n",
       " '__init_subclass__',\n",
       " '__iter__',\n",
       " '__le__',\n",
       " '__len__',\n",
       " '__lt__',\n",
       " '__module__',\n",
       " '__ne__',\n",
       " '__new__',\n",
       " '__pybind11_module_local_v5_gcc_libstdcpp_cxxabi1018__',\n",
       " '__reduce__',\n",
       " '__reduce_ex__',\n",
       " '__repr__',\n",
       " '__setattr__',\n",
       " '__setitem__',\n",
       " '__sizeof__',\n",
       " '__str__',\n",
       " '__subclasshook__',\n",
       " '_ipython_key_completions_',\n",
       " '_pybind11_conduit_v1_',\n",
       " 'attribute_dtypes',\n",
       " 'attributes',\n",
       " 'comment',\n",
       " 'contains_attribute',\n",
       " 'delete_attribute',\n",
       " 'get_attribute',\n",
       " 'items',\n",
       " 'iteration_flush',\n",
       " 'my_path',\n",
       " 'series_flush',\n",
       " 'set_attribute',\n",
       " 'set_comment']"
      ]
     },
     "execution_count": 45,
     "metadata": {},
     "output_type": "execute_result"
    }
   ],
   "source": [
    "dir(finish.particles)"
   ]
  },
  {
   "cell_type": "code",
   "execution_count": 48,
   "id": "0d4d51fe-2b7d-4e89-b9d9-1baf00bc9c1f",
   "metadata": {},
   "outputs": [
    {
     "data": {
      "text/plain": [
       "[('beam', <openPMD.ParticleSpecies with 6 record(s) and 55 attribute(s)>)]"
      ]
     },
     "execution_count": 48,
     "metadata": {},
     "output_type": "execute_result"
    }
   ],
   "source": [
    "list(finish.particles.items())"
   ]
  },
  {
   "cell_type": "code",
   "execution_count": 51,
   "id": "0b79f042-37f8-4713-b78d-08111292215c",
   "metadata": {},
   "outputs": [
    {
     "data": {
      "text/plain": [
       "['__bool__',\n",
       " '__class__',\n",
       " '__delattr__',\n",
       " '__delitem__',\n",
       " '__dir__',\n",
       " '__doc__',\n",
       " '__eq__',\n",
       " '__format__',\n",
       " '__ge__',\n",
       " '__getattribute__',\n",
       " '__getitem__',\n",
       " '__getstate__',\n",
       " '__gt__',\n",
       " '__hash__',\n",
       " '__init__',\n",
       " '__init_subclass__',\n",
       " '__iter__',\n",
       " '__le__',\n",
       " '__len__',\n",
       " '__lt__',\n",
       " '__module__',\n",
       " '__ne__',\n",
       " '__new__',\n",
       " '__pybind11_module_local_v5_gcc_libstdcpp_cxxabi1018__',\n",
       " '__reduce__',\n",
       " '__reduce_ex__',\n",
       " '__repr__',\n",
       " '__setattr__',\n",
       " '__setitem__',\n",
       " '__setstate__',\n",
       " '__sizeof__',\n",
       " '__str__',\n",
       " '__subclasshook__',\n",
       " '_ipython_key_completions_',\n",
       " '_pybind11_conduit_v1_',\n",
       " 'attribute_dtypes',\n",
       " 'attributes',\n",
       " 'comment',\n",
       " 'contains_attribute',\n",
       " 'delete_attribute',\n",
       " 'get_attribute',\n",
       " 'items',\n",
       " 'iteration_flush',\n",
       " 'my_path',\n",
       " 'particle_patches',\n",
       " 'series_flush',\n",
       " 'set_attribute',\n",
       " 'set_comment',\n",
       " 'to_dask',\n",
       " 'to_df']"
      ]
     },
     "execution_count": 51,
     "metadata": {},
     "output_type": "execute_result"
    }
   ],
   "source": [
    "dir(finish.particles[\"beam\"])"
   ]
  },
  {
   "cell_type": "code",
   "execution_count": 54,
   "id": "3d36feb6-b71d-4a84-b11d-4469e68fd0a3",
   "metadata": {},
   "outputs": [
    {
     "data": {
      "text/plain": [
       "['alpha_t',\n",
       " 'alpha_x',\n",
       " 'alpha_y',\n",
       " 'beta_gamma_ref',\n",
       " 'beta_ref',\n",
       " 'beta_t',\n",
       " 'beta_x',\n",
       " 'beta_y',\n",
       " 'charge_C',\n",
       " 'charge_ref',\n",
       " 'dispersion_px',\n",
       " 'dispersion_py',\n",
       " 'dispersion_x',\n",
       " 'dispersion_y',\n",
       " 'emittance_t',\n",
       " 'emittance_tn',\n",
       " 'emittance_x',\n",
       " 'emittance_xn',\n",
       " 'emittance_y',\n",
       " 'emittance_yn',\n",
       " 'gamma_ref',\n",
       " 'mass_ref',\n",
       " 'pt_max',\n",
       " 'pt_mean',\n",
       " 'pt_min',\n",
       " 'pt_ref',\n",
       " 'px_max',\n",
       " 'px_mean',\n",
       " 'px_min',\n",
       " 'px_ref',\n",
       " 'py_max',\n",
       " 'py_mean',\n",
       " 'py_min',\n",
       " 'py_ref',\n",
       " 'pz_ref',\n",
       " 's_ref',\n",
       " 'sig_pt',\n",
       " 'sig_px',\n",
       " 'sig_py',\n",
       " 'sig_t',\n",
       " 'sig_x',\n",
       " 'sig_y',\n",
       " 't_max',\n",
       " 't_mean',\n",
       " 't_min',\n",
       " 't_ref',\n",
       " 'x_max',\n",
       " 'x_mean',\n",
       " 'x_min',\n",
       " 'x_ref',\n",
       " 'y_max',\n",
       " 'y_mean',\n",
       " 'y_min',\n",
       " 'y_ref',\n",
       " 'z_ref']"
      ]
     },
     "execution_count": 54,
     "metadata": {},
     "output_type": "execute_result"
    }
   ],
   "source": [
    "finish.particles[\"beam\"].attributes"
   ]
  },
  {
   "cell_type": "code",
   "execution_count": 55,
   "id": "c73d3e19-625f-49ec-8ad5-436e73083d53",
   "metadata": {},
   "outputs": [
    {
     "data": {
      "text/plain": [
       "1.672621848532099e-27"
      ]
     },
     "execution_count": 55,
     "metadata": {},
     "output_type": "execute_result"
    }
   ],
   "source": [
    "finish.particles[\"beam\"].get_attribute('mass_ref')"
   ]
  },
  {
   "cell_type": "code",
   "execution_count": 62,
   "id": "372b69cd-3388-41fd-9b23-b8d0dc8005c5",
   "metadata": {},
   "outputs": [
    {
     "data": {
      "text/plain": [
       "1.67262192595e-27"
      ]
     },
     "execution_count": 62,
     "metadata": {},
     "output_type": "execute_result"
    }
   ],
   "source": [
    "from scipy import constants\n",
    "constants.proton_mass"
   ]
  },
  {
   "cell_type": "code",
   "execution_count": 64,
   "id": "20cc0b64-8742-4c0f-95ac-1b8d407ab5e3",
   "metadata": {},
   "outputs": [
    {
     "data": {
      "text/plain": [
       "0.8418107131816728"
      ]
     },
     "execution_count": 64,
     "metadata": {},
     "output_type": "execute_result"
    }
   ],
   "source": [
    "finish.particles[\"beam\"].get_attribute('beta_ref')"
   ]
  },
  {
   "cell_type": "code",
   "execution_count": 65,
   "id": "10090132-a325-439f-991d-d992bbee8549",
   "metadata": {},
   "outputs": [
    {
     "data": {
      "text/plain": [
       "nan"
      ]
     },
     "execution_count": 65,
     "metadata": {},
     "output_type": "execute_result"
    }
   ],
   "source": [
    "finish.particles[\"beam\"].get_attribute('beta_x')"
   ]
  },
  {
   "cell_type": "code",
   "execution_count": null,
   "id": "c9ba25b6-a4f2-4395-b4e8-b7c61f2f983b",
   "metadata": {},
   "outputs": [],
   "source": []
  }
 ],
 "metadata": {
  "kernelspec": {
   "display_name": "Python 3 (ipykernel)",
   "language": "python",
   "name": "python3"
  },
  "language_info": {
   "codemirror_mode": {
    "name": "ipython",
    "version": 3
   },
   "file_extension": ".py",
   "mimetype": "text/x-python",
   "name": "python",
   "nbconvert_exporter": "python",
   "pygments_lexer": "ipython3",
   "version": "3.13.2"
  }
 },
 "nbformat": 4,
 "nbformat_minor": 5
}
