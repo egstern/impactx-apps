{
 "cells": [
  {
   "cell_type": "code",
   "execution_count": 1,
   "id": "daecda0c-2a4a-4f3a-970a-a33a546158db",
   "metadata": {},
   "outputs": [],
   "source": [
    "import numpy as np\n",
    "import openpmd_api as io\n",
    "from scipy.stats import moment\n"
   ]
  },
  {
   "cell_type": "code",
   "execution_count": 2,
   "id": "edc4553b-f634-4eef-873f-e8a5e575e7c4",
   "metadata": {},
   "outputs": [],
   "source": [
    "\n",
    "def get_moments(beam):\n",
    "    \"\"\"Calculate standard deviations of beam position & momenta\n",
    "    and emittance values\n",
    "\n",
    "    Returns\n",
    "    -------\n",
    "    sigx, sigy, sigt, emittance_x, emittance_y, emittance_t\n",
    "    \"\"\"\n",
    "    sigx = moment(beam[\"position_x\"], moment=2) ** 0.5  # variance -> std dev.\n",
    "    sigpx = moment(beam[\"momentum_x\"], moment=2) ** 0.5\n",
    "    sigy = moment(beam[\"position_y\"], moment=2) ** 0.5\n",
    "    sigpy = moment(beam[\"momentum_y\"], moment=2) ** 0.5\n",
    "    sigt = moment(beam[\"position_t\"], moment=2) ** 0.5\n",
    "    sigpt = moment(beam[\"momentum_t\"], moment=2) ** 0.5\n",
    "\n",
    "    epstrms = beam.cov(ddof=0)\n",
    "    emittance_x = (sigx**2 * sigpx**2 - epstrms[\"position_x\"][\"momentum_x\"] ** 2) ** 0.5\n",
    "    emittance_y = (sigy**2 * sigpy**2 - epstrms[\"position_y\"][\"momentum_y\"] ** 2) ** 0.5\n",
    "    emittance_t = (sigt**2 * sigpt**2 - epstrms[\"position_t\"][\"momentum_t\"] ** 2) ** 0.5\n",
    "\n",
    "    return (sigx, sigy, sigt, emittance_x, emittance_y, emittance_t)\n",
    "\n",
    "\n"
   ]
  },
  {
   "cell_type": "code",
   "execution_count": 3,
   "id": "a28459ed-3e8d-4e09-8f97-5c186f220991",
   "metadata": {},
   "outputs": [
    {
     "data": {
      "text/plain": [
       "['__bool__',\n",
       " '__class__',\n",
       " '__delattr__',\n",
       " '__dir__',\n",
       " '__doc__',\n",
       " '__eq__',\n",
       " '__format__',\n",
       " '__ge__',\n",
       " '__getattribute__',\n",
       " '__getstate__',\n",
       " '__gt__',\n",
       " '__hash__',\n",
       " '__init__',\n",
       " '__init_subclass__',\n",
       " '__le__',\n",
       " '__len__',\n",
       " '__lt__',\n",
       " '__module__',\n",
       " '__ne__',\n",
       " '__new__',\n",
       " '__reduce__',\n",
       " '__reduce_ex__',\n",
       " '__repr__',\n",
       " '__setattr__',\n",
       " '__setstate__',\n",
       " '__sizeof__',\n",
       " '__str__',\n",
       " '__subclasshook__',\n",
       " '_pybind11_conduit_v1_',\n",
       " 'attribute_dtypes',\n",
       " 'attributes',\n",
       " 'author',\n",
       " 'backend',\n",
       " 'base_path',\n",
       " 'close',\n",
       " 'comment',\n",
       " 'contains_attribute',\n",
       " 'date',\n",
       " 'delete_attribute',\n",
       " 'flush',\n",
       " 'get_attribute',\n",
       " 'get_rank_table',\n",
       " 'iteration_encoding',\n",
       " 'iteration_flush',\n",
       " 'iteration_format',\n",
       " 'iterations',\n",
       " 'machine',\n",
       " 'meshes_path',\n",
       " 'my_path',\n",
       " 'name',\n",
       " 'openPMD',\n",
       " 'openPMD_extension',\n",
       " 'parse_base',\n",
       " 'particles_path',\n",
       " 'read_iterations',\n",
       " 'series_flush',\n",
       " 'set_attribute',\n",
       " 'set_author',\n",
       " 'set_base_path',\n",
       " 'set_comment',\n",
       " 'set_date',\n",
       " 'set_iteration_encoding',\n",
       " 'set_iteration_format',\n",
       " 'set_meshes_path',\n",
       " 'set_name',\n",
       " 'set_openPMD',\n",
       " 'set_openPMD_extension',\n",
       " 'set_particles_path',\n",
       " 'set_rank_table',\n",
       " 'set_software',\n",
       " 'set_software_version',\n",
       " 'software',\n",
       " 'software_version',\n",
       " 'to_cudf',\n",
       " 'to_df',\n",
       " 'write_iterations']"
      ]
     },
     "execution_count": 3,
     "metadata": {},
     "output_type": "execute_result"
    }
   ],
   "source": [
    "series = io.Series(\"diags/openPMD/monitor.h5\", io.Access.read_only)\n",
    "type(series)\n",
    "dir(series)\n"
   ]
  },
  {
   "cell_type": "code",
   "execution_count": 4,
   "id": "29e63a5c-e169-43c1-bd4e-2f296d5ebf79",
   "metadata": {},
   "outputs": [
    {
     "data": {
      "text/plain": [
       "openpmd_api.openpmd_api_cxx.Series"
      ]
     },
     "execution_count": 4,
     "metadata": {},
     "output_type": "execute_result"
    }
   ],
   "source": [
    "type(series)"
   ]
  },
  {
   "cell_type": "code",
   "execution_count": 5,
   "id": "1d5a60d6-49cb-4bc3-83f8-23963f3c28f7",
   "metadata": {},
   "outputs": [
    {
     "data": {
      "text/plain": [
       "<openPMD.Iteration_Container with 6 entries and 0 attribute(s)>"
      ]
     },
     "execution_count": 5,
     "metadata": {},
     "output_type": "execute_result"
    }
   ],
   "source": [
    "series.iterations"
   ]
  },
  {
   "cell_type": "code",
   "execution_count": 6,
   "id": "748243b1-148f-4432-bc6c-4285385facf0",
   "metadata": {},
   "outputs": [
    {
     "data": {
      "text/plain": [
       "6"
      ]
     },
     "execution_count": 6,
     "metadata": {},
     "output_type": "execute_result"
    }
   ],
   "source": [
    "len(series.iterations)"
   ]
  },
  {
   "cell_type": "code",
   "execution_count": 8,
   "id": "f1a967c9-014e-45c6-91ec-dcff5769e430",
   "metadata": {},
   "outputs": [
    {
     "name": "stdout",
     "output_type": "stream",
     "text": [
      "number iterations:  6\n"
     ]
    }
   ],
   "source": [
    "niter = len(series.iterations)\n",
    "print('number iterations: ', niter)"
   ]
  },
  {
   "cell_type": "code",
   "execution_count": 9,
   "id": "9374acb1-490f-4bbc-be2e-340e09fb3cb0",
   "metadata": {},
   "outputs": [
    {
     "ename": "NameError",
     "evalue": "name 'iterations' is not defined",
     "output_type": "error",
     "traceback": [
      "\u001b[31m---------------------------------------------------------------------------\u001b[39m",
      "\u001b[31mNameError\u001b[39m                                 Traceback (most recent call last)",
      "\u001b[36mCell\u001b[39m\u001b[36m \u001b[39m\u001b[32mIn[9]\u001b[39m\u001b[32m, line 1\u001b[39m\n\u001b[32m----> \u001b[39m\u001b[32m1\u001b[39m \u001b[43miterations\u001b[49m[\u001b[32m0\u001b[39m]\n",
      "\u001b[31mNameError\u001b[39m: name 'iterations' is not defined"
     ]
    }
   ],
   "source": [
    "iterations[0]"
   ]
  },
  {
   "cell_type": "code",
   "execution_count": 10,
   "id": "a1da8414-2225-4c1a-90cd-ac311adaba42",
   "metadata": {},
   "outputs": [
    {
     "data": {
      "text/plain": [
       "'monitor'"
      ]
     },
     "execution_count": 10,
     "metadata": {},
     "output_type": "execute_result"
    }
   ],
   "source": [
    "series.name"
   ]
  },
  {
   "cell_type": "code",
   "execution_count": 11,
   "id": "87c2b175-a30c-4221-8291-68847c0e862b",
   "metadata": {},
   "outputs": [
    {
     "data": {
      "text/plain": [
       "'1.1.0'"
      ]
     },
     "execution_count": 11,
     "metadata": {},
     "output_type": "execute_result"
    }
   ],
   "source": [
    "series.openPMD"
   ]
  },
  {
   "cell_type": "code",
   "execution_count": 12,
   "id": "29b3d66e-d2ca-40f9-b9bf-47e4284aa02d",
   "metadata": {},
   "outputs": [
    {
     "data": {
      "text/plain": [
       "['basePath',\n",
       " 'date',\n",
       " 'iterationEncoding',\n",
       " 'iterationFormat',\n",
       " 'openPMD',\n",
       " 'openPMDextension',\n",
       " 'particlesPath',\n",
       " 'software',\n",
       " 'softwareVersion']"
      ]
     },
     "execution_count": 12,
     "metadata": {},
     "output_type": "execute_result"
    }
   ],
   "source": [
    "series.attributes"
   ]
  },
  {
   "cell_type": "code",
   "execution_count": 13,
   "id": "d04b1d8f-785f-4d5a-8819-008a2849af4a",
   "metadata": {},
   "outputs": [
    {
     "data": {
      "text/plain": [
       "'2025-04-01 14:00:42 -0500'"
      ]
     },
     "execution_count": 13,
     "metadata": {},
     "output_type": "execute_result"
    }
   ],
   "source": [
    "series.date"
   ]
  },
  {
   "cell_type": "code",
   "execution_count": 14,
   "id": "bebba815-e090-4c2d-9888-789b78c69a78",
   "metadata": {},
   "outputs": [
    {
     "data": {
      "text/plain": [
       "'particles/'"
      ]
     },
     "execution_count": 14,
     "metadata": {},
     "output_type": "execute_result"
    }
   ],
   "source": [
    "series.particles_path"
   ]
  },
  {
   "cell_type": "code",
   "execution_count": 16,
   "id": "e7b99803-87e6-41b6-838e-198bed52f6f2",
   "metadata": {},
   "outputs": [
    {
     "data": {
      "text/plain": [
       "<openPMD.Particle_Container with 1 entry and 0 attribute(s)>"
      ]
     },
     "execution_count": 16,
     "metadata": {},
     "output_type": "execute_result"
    }
   ],
   "source": [
    "series.iterations[1].particles"
   ]
  },
  {
   "cell_type": "code",
   "execution_count": 17,
   "id": "1723e6ae-5dcb-4343-bb07-d7f221d8bd91",
   "metadata": {},
   "outputs": [
    {
     "data": {
      "text/plain": [
       "['__class__',\n",
       " '__delattr__',\n",
       " '__dir__',\n",
       " '__doc__',\n",
       " '__eq__',\n",
       " '__format__',\n",
       " '__ge__',\n",
       " '__getattribute__',\n",
       " '__getstate__',\n",
       " '__gt__',\n",
       " '__hash__',\n",
       " '__init__',\n",
       " '__init_subclass__',\n",
       " '__le__',\n",
       " '__lt__',\n",
       " '__module__',\n",
       " '__ne__',\n",
       " '__new__',\n",
       " '__reduce__',\n",
       " '__reduce_ex__',\n",
       " '__repr__',\n",
       " '__setattr__',\n",
       " '__setstate__',\n",
       " '__sizeof__',\n",
       " '__str__',\n",
       " '__subclasshook__',\n",
       " '_pybind11_conduit_v1_',\n",
       " 'attribute_dtypes',\n",
       " 'attributes',\n",
       " 'close',\n",
       " 'comment',\n",
       " 'contains_attribute',\n",
       " 'delete_attribute',\n",
       " 'dt',\n",
       " 'get_attribute',\n",
       " 'iteration_flush',\n",
       " 'meshes',\n",
       " 'my_path',\n",
       " 'open',\n",
       " 'particles',\n",
       " 'series_flush',\n",
       " 'set_attribute',\n",
       " 'set_comment',\n",
       " 'set_dt',\n",
       " 'set_time',\n",
       " 'set_time_unit_SI',\n",
       " 'time',\n",
       " 'time_unit_SI']"
      ]
     },
     "execution_count": 17,
     "metadata": {},
     "output_type": "execute_result"
    }
   ],
   "source": [
    "dir(series.iterations[1])"
   ]
  },
  {
   "cell_type": "code",
   "execution_count": 18,
   "id": "17b06702-3025-4ab9-a7db-dda7b57d282b",
   "metadata": {},
   "outputs": [
    {
     "data": {
      "text/plain": [
       "0.0"
      ]
     },
     "execution_count": 18,
     "metadata": {},
     "output_type": "execute_result"
    }
   ],
   "source": [
    "series.iterations[1].time"
   ]
  },
  {
   "cell_type": "code",
   "execution_count": 23,
   "id": "bcc8da09-af6b-4c7f-8054-8ed7378ff78c",
   "metadata": {},
   "outputs": [
    {
     "data": {
      "text/plain": [
       "6"
      ]
     },
     "execution_count": 23,
     "metadata": {},
     "output_type": "execute_result"
    }
   ],
   "source": [
    "len(series.iterations)"
   ]
  },
  {
   "cell_type": "code",
   "execution_count": 28,
   "id": "7a705df4-a6de-49bb-9d5c-8d4452d3dc0f",
   "metadata": {},
   "outputs": [
    {
     "data": {
      "text/plain": [
       "1.0"
      ]
     },
     "execution_count": 28,
     "metadata": {},
     "output_type": "execute_result"
    }
   ],
   "source": [
    "series.iterations[1].dt"
   ]
  },
  {
   "cell_type": "code",
   "execution_count": 29,
   "id": "25f4b8a8-ce28-48a7-84c8-c69b1132c4a6",
   "metadata": {},
   "outputs": [
    {
     "data": {
      "text/plain": [
       "['dt', 'time', 'timeUnitSI']"
      ]
     },
     "execution_count": 29,
     "metadata": {},
     "output_type": "execute_result"
    }
   ],
   "source": [
    "series.iterations[1].attributes"
   ]
  },
  {
   "cell_type": "code",
   "execution_count": 31,
   "id": "a7e00830-23b6-4cb9-87b9-61178dbd6a2a",
   "metadata": {},
   "outputs": [
    {
     "data": {
      "text/plain": [
       "<openPMD.Particle_Container with 1 entry and 0 attribute(s)>"
      ]
     },
     "execution_count": 31,
     "metadata": {},
     "output_type": "execute_result"
    }
   ],
   "source": [
    "series.iterations[1].particles"
   ]
  },
  {
   "cell_type": "code",
   "execution_count": 34,
   "id": "34ab073f-acf1-4a16-b4f3-7513056ded4f",
   "metadata": {},
   "outputs": [],
   "source": [
    "initial = series.iterations[1].particles[\"beam\"].to_df()"
   ]
  },
  {
   "cell_type": "code",
   "execution_count": 35,
   "id": "45629af8-32b6-4658-acd5-5a77b837fdc5",
   "metadata": {},
   "outputs": [
    {
     "data": {
      "text/plain": [
       "pandas.core.frame.DataFrame"
      ]
     },
     "execution_count": 35,
     "metadata": {},
     "output_type": "execute_result"
    }
   ],
   "source": [
    "type(initial)"
   ]
  },
  {
   "cell_type": "code",
   "execution_count": 36,
   "id": "6d04f691-7dff-4e83-9c8f-07c941459040",
   "metadata": {},
   "outputs": [
    {
     "data": {
      "text/html": [
       "<div>\n",
       "<style scoped>\n",
       "    .dataframe tbody tr th:only-of-type {\n",
       "        vertical-align: middle;\n",
       "    }\n",
       "\n",
       "    .dataframe tbody tr th {\n",
       "        vertical-align: top;\n",
       "    }\n",
       "\n",
       "    .dataframe thead th {\n",
       "        text-align: right;\n",
       "    }\n",
       "</style>\n",
       "<table border=\"1\" class=\"dataframe\">\n",
       "  <thead>\n",
       "    <tr style=\"text-align: right;\">\n",
       "      <th></th>\n",
       "      <th>id</th>\n",
       "      <th>momentum_t</th>\n",
       "      <th>momentum_x</th>\n",
       "      <th>momentum_y</th>\n",
       "      <th>position_t</th>\n",
       "      <th>position_x</th>\n",
       "      <th>position_y</th>\n",
       "      <th>positionOffset_t</th>\n",
       "      <th>positionOffset_x</th>\n",
       "      <th>positionOffset_y</th>\n",
       "      <th>qm</th>\n",
       "      <th>weighting</th>\n",
       "    </tr>\n",
       "    <tr>\n",
       "      <th>row</th>\n",
       "      <th></th>\n",
       "      <th></th>\n",
       "      <th></th>\n",
       "      <th></th>\n",
       "      <th></th>\n",
       "      <th></th>\n",
       "      <th></th>\n",
       "      <th></th>\n",
       "      <th></th>\n",
       "      <th></th>\n",
       "      <th></th>\n",
       "      <th></th>\n",
       "    </tr>\n",
       "  </thead>\n",
       "  <tbody>\n",
       "    <tr>\n",
       "      <th>0</th>\n",
       "      <td>9223372036871553024</td>\n",
       "      <td>0.001877</td>\n",
       "      <td>2.348681e-06</td>\n",
       "      <td>-0.000032</td>\n",
       "      <td>0.001850</td>\n",
       "      <td>0.000005</td>\n",
       "      <td>-0.000002</td>\n",
       "      <td>0.0</td>\n",
       "      <td>0.0</td>\n",
       "      <td>0.0</td>\n",
       "      <td>-1.758820e+11</td>\n",
       "      <td>624150.907446</td>\n",
       "    </tr>\n",
       "    <tr>\n",
       "      <th>1</th>\n",
       "      <td>9223372036888330240</td>\n",
       "      <td>0.001123</td>\n",
       "      <td>6.966966e-05</td>\n",
       "      <td>-0.000019</td>\n",
       "      <td>-0.000318</td>\n",
       "      <td>0.000088</td>\n",
       "      <td>-0.000038</td>\n",
       "      <td>0.0</td>\n",
       "      <td>0.0</td>\n",
       "      <td>0.0</td>\n",
       "      <td>-1.758820e+11</td>\n",
       "      <td>624150.907446</td>\n",
       "    </tr>\n",
       "    <tr>\n",
       "      <th>2</th>\n",
       "      <td>9223372036905107456</td>\n",
       "      <td>-0.001088</td>\n",
       "      <td>8.527520e-05</td>\n",
       "      <td>0.000041</td>\n",
       "      <td>-0.001769</td>\n",
       "      <td>0.000112</td>\n",
       "      <td>-0.000067</td>\n",
       "      <td>0.0</td>\n",
       "      <td>0.0</td>\n",
       "      <td>0.0</td>\n",
       "      <td>-1.758820e+11</td>\n",
       "      <td>624150.907446</td>\n",
       "    </tr>\n",
       "    <tr>\n",
       "      <th>3</th>\n",
       "      <td>9223372036921884672</td>\n",
       "      <td>-0.001677</td>\n",
       "      <td>8.325196e-07</td>\n",
       "      <td>-0.000012</td>\n",
       "      <td>0.001184</td>\n",
       "      <td>0.000065</td>\n",
       "      <td>0.000043</td>\n",
       "      <td>0.0</td>\n",
       "      <td>0.0</td>\n",
       "      <td>0.0</td>\n",
       "      <td>-1.758820e+11</td>\n",
       "      <td>624150.907446</td>\n",
       "    </tr>\n",
       "    <tr>\n",
       "      <th>4</th>\n",
       "      <td>9223372036938661888</td>\n",
       "      <td>0.001993</td>\n",
       "      <td>-5.706154e-05</td>\n",
       "      <td>0.000079</td>\n",
       "      <td>-0.000382</td>\n",
       "      <td>-0.000068</td>\n",
       "      <td>-0.000124</td>\n",
       "      <td>0.0</td>\n",
       "      <td>0.0</td>\n",
       "      <td>0.0</td>\n",
       "      <td>-1.758820e+11</td>\n",
       "      <td>624150.907446</td>\n",
       "    </tr>\n",
       "    <tr>\n",
       "      <th>...</th>\n",
       "      <td>...</td>\n",
       "      <td>...</td>\n",
       "      <td>...</td>\n",
       "      <td>...</td>\n",
       "      <td>...</td>\n",
       "      <td>...</td>\n",
       "      <td>...</td>\n",
       "      <td>...</td>\n",
       "      <td>...</td>\n",
       "      <td>...</td>\n",
       "      <td>...</td>\n",
       "      <td>...</td>\n",
       "    </tr>\n",
       "    <tr>\n",
       "      <th>9995</th>\n",
       "      <td>9223372204559826944</td>\n",
       "      <td>-0.002437</td>\n",
       "      <td>5.250268e-05</td>\n",
       "      <td>0.000007</td>\n",
       "      <td>-0.001003</td>\n",
       "      <td>-0.000004</td>\n",
       "      <td>-0.000053</td>\n",
       "      <td>0.0</td>\n",
       "      <td>0.0</td>\n",
       "      <td>0.0</td>\n",
       "      <td>-1.758820e+11</td>\n",
       "      <td>624150.907446</td>\n",
       "    </tr>\n",
       "    <tr>\n",
       "      <th>9996</th>\n",
       "      <td>9223372204576604160</td>\n",
       "      <td>0.002744</td>\n",
       "      <td>2.293072e-05</td>\n",
       "      <td>0.000021</td>\n",
       "      <td>0.001140</td>\n",
       "      <td>0.000077</td>\n",
       "      <td>-0.000048</td>\n",
       "      <td>0.0</td>\n",
       "      <td>0.0</td>\n",
       "      <td>0.0</td>\n",
       "      <td>-1.758820e+11</td>\n",
       "      <td>624150.907446</td>\n",
       "    </tr>\n",
       "    <tr>\n",
       "      <th>9997</th>\n",
       "      <td>9223372204593381376</td>\n",
       "      <td>-0.001332</td>\n",
       "      <td>6.460116e-05</td>\n",
       "      <td>-0.000053</td>\n",
       "      <td>-0.001897</td>\n",
       "      <td>0.000121</td>\n",
       "      <td>0.000069</td>\n",
       "      <td>0.0</td>\n",
       "      <td>0.0</td>\n",
       "      <td>0.0</td>\n",
       "      <td>-1.758820e+11</td>\n",
       "      <td>624150.907446</td>\n",
       "    </tr>\n",
       "    <tr>\n",
       "      <th>9998</th>\n",
       "      <td>9223372204610158592</td>\n",
       "      <td>0.002579</td>\n",
       "      <td>2.320139e-05</td>\n",
       "      <td>-0.000106</td>\n",
       "      <td>0.000255</td>\n",
       "      <td>0.000052</td>\n",
       "      <td>0.000129</td>\n",
       "      <td>0.0</td>\n",
       "      <td>0.0</td>\n",
       "      <td>0.0</td>\n",
       "      <td>-1.758820e+11</td>\n",
       "      <td>624150.907446</td>\n",
       "    </tr>\n",
       "    <tr>\n",
       "      <th>9999</th>\n",
       "      <td>9223372204626935808</td>\n",
       "      <td>0.000194</td>\n",
       "      <td>1.682316e-05</td>\n",
       "      <td>-0.000094</td>\n",
       "      <td>-0.000238</td>\n",
       "      <td>-0.000028</td>\n",
       "      <td>0.000179</td>\n",
       "      <td>0.0</td>\n",
       "      <td>0.0</td>\n",
       "      <td>0.0</td>\n",
       "      <td>-1.758820e+11</td>\n",
       "      <td>624150.907446</td>\n",
       "    </tr>\n",
       "  </tbody>\n",
       "</table>\n",
       "<p>10000 rows × 12 columns</p>\n",
       "</div>"
      ],
      "text/plain": [
       "                       id  momentum_t    momentum_x  momentum_y  position_t  \\\n",
       "row                                                                           \n",
       "0     9223372036871553024    0.001877  2.348681e-06   -0.000032    0.001850   \n",
       "1     9223372036888330240    0.001123  6.966966e-05   -0.000019   -0.000318   \n",
       "2     9223372036905107456   -0.001088  8.527520e-05    0.000041   -0.001769   \n",
       "3     9223372036921884672   -0.001677  8.325196e-07   -0.000012    0.001184   \n",
       "4     9223372036938661888    0.001993 -5.706154e-05    0.000079   -0.000382   \n",
       "...                   ...         ...           ...         ...         ...   \n",
       "9995  9223372204559826944   -0.002437  5.250268e-05    0.000007   -0.001003   \n",
       "9996  9223372204576604160    0.002744  2.293072e-05    0.000021    0.001140   \n",
       "9997  9223372204593381376   -0.001332  6.460116e-05   -0.000053   -0.001897   \n",
       "9998  9223372204610158592    0.002579  2.320139e-05   -0.000106    0.000255   \n",
       "9999  9223372204626935808    0.000194  1.682316e-05   -0.000094   -0.000238   \n",
       "\n",
       "      position_x  position_y  positionOffset_t  positionOffset_x  \\\n",
       "row                                                                \n",
       "0       0.000005   -0.000002               0.0               0.0   \n",
       "1       0.000088   -0.000038               0.0               0.0   \n",
       "2       0.000112   -0.000067               0.0               0.0   \n",
       "3       0.000065    0.000043               0.0               0.0   \n",
       "4      -0.000068   -0.000124               0.0               0.0   \n",
       "...          ...         ...               ...               ...   \n",
       "9995   -0.000004   -0.000053               0.0               0.0   \n",
       "9996    0.000077   -0.000048               0.0               0.0   \n",
       "9997    0.000121    0.000069               0.0               0.0   \n",
       "9998    0.000052    0.000129               0.0               0.0   \n",
       "9999   -0.000028    0.000179               0.0               0.0   \n",
       "\n",
       "      positionOffset_y            qm      weighting  \n",
       "row                                                  \n",
       "0                  0.0 -1.758820e+11  624150.907446  \n",
       "1                  0.0 -1.758820e+11  624150.907446  \n",
       "2                  0.0 -1.758820e+11  624150.907446  \n",
       "3                  0.0 -1.758820e+11  624150.907446  \n",
       "4                  0.0 -1.758820e+11  624150.907446  \n",
       "...                ...           ...            ...  \n",
       "9995               0.0 -1.758820e+11  624150.907446  \n",
       "9996               0.0 -1.758820e+11  624150.907446  \n",
       "9997               0.0 -1.758820e+11  624150.907446  \n",
       "9998               0.0 -1.758820e+11  624150.907446  \n",
       "9999               0.0 -1.758820e+11  624150.907446  \n",
       "\n",
       "[10000 rows x 12 columns]"
      ]
     },
     "execution_count": 36,
     "metadata": {},
     "output_type": "execute_result"
    }
   ],
   "source": [
    "initial"
   ]
  },
  {
   "cell_type": "code",
   "execution_count": 37,
   "id": "8dec8ec3-c680-44a9-91f3-4e68087761e2",
   "metadata": {},
   "outputs": [
    {
     "data": {
      "text/plain": [
       "[1, 27, 53, 79, 105, 131]"
      ]
     },
     "execution_count": 37,
     "metadata": {},
     "output_type": "execute_result"
    }
   ],
   "source": [
    "list(series.iterations)"
   ]
  },
  {
   "cell_type": "code",
   "execution_count": 38,
   "id": "8bdf5741-cf49-4836-899f-d9ad21da389c",
   "metadata": {},
   "outputs": [],
   "source": [
    "initial = series.iterations[1]\n",
    "final = series.iterations[131]"
   ]
  },
  {
   "cell_type": "code",
   "execution_count": 39,
   "id": "b1bbec40-5546-4403-94b4-24399e3b6be8",
   "metadata": {},
   "outputs": [
    {
     "data": {
      "text/plain": [
       "['__class__',\n",
       " '__delattr__',\n",
       " '__dir__',\n",
       " '__doc__',\n",
       " '__eq__',\n",
       " '__format__',\n",
       " '__ge__',\n",
       " '__getattribute__',\n",
       " '__getstate__',\n",
       " '__gt__',\n",
       " '__hash__',\n",
       " '__init__',\n",
       " '__init_subclass__',\n",
       " '__le__',\n",
       " '__lt__',\n",
       " '__module__',\n",
       " '__ne__',\n",
       " '__new__',\n",
       " '__reduce__',\n",
       " '__reduce_ex__',\n",
       " '__repr__',\n",
       " '__setattr__',\n",
       " '__setstate__',\n",
       " '__sizeof__',\n",
       " '__str__',\n",
       " '__subclasshook__',\n",
       " '_pybind11_conduit_v1_',\n",
       " 'attribute_dtypes',\n",
       " 'attributes',\n",
       " 'close',\n",
       " 'comment',\n",
       " 'contains_attribute',\n",
       " 'delete_attribute',\n",
       " 'dt',\n",
       " 'get_attribute',\n",
       " 'iteration_flush',\n",
       " 'meshes',\n",
       " 'my_path',\n",
       " 'open',\n",
       " 'particles',\n",
       " 'series_flush',\n",
       " 'set_attribute',\n",
       " 'set_comment',\n",
       " 'set_dt',\n",
       " 'set_time',\n",
       " 'set_time_unit_SI',\n",
       " 'time',\n",
       " 'time_unit_SI']"
      ]
     },
     "execution_count": 39,
     "metadata": {},
     "output_type": "execute_result"
    }
   ],
   "source": [
    "dir(initial)"
   ]
  },
  {
   "cell_type": "code",
   "execution_count": 40,
   "id": "e54c24e5-d308-4034-b47d-dec5e990cce6",
   "metadata": {},
   "outputs": [
    {
     "data": {
      "text/plain": [
       "1.0"
      ]
     },
     "execution_count": 40,
     "metadata": {},
     "output_type": "execute_result"
    }
   ],
   "source": [
    "initial.time_unit_SI"
   ]
  },
  {
   "cell_type": "code",
   "execution_count": 41,
   "id": "8088684a-e0cb-4bab-8def-c67b3e5e7093",
   "metadata": {},
   "outputs": [
    {
     "data": {
      "text/plain": [
       "openpmd_api.openpmd_api_cxx.Iteration"
      ]
     },
     "execution_count": 41,
     "metadata": {},
     "output_type": "execute_result"
    }
   ],
   "source": [
    "type(initial)"
   ]
  },
  {
   "cell_type": "code",
   "execution_count": 42,
   "id": "dd7340d4-3b77-4330-bf8b-a73fe15e79a4",
   "metadata": {},
   "outputs": [
    {
     "data": {
      "text/plain": [
       "openpmd_api.openpmd_api_cxx.Particle_Container"
      ]
     },
     "execution_count": 42,
     "metadata": {},
     "output_type": "execute_result"
    }
   ],
   "source": [
    "type(initial.particles)"
   ]
  },
  {
   "cell_type": "code",
   "execution_count": 43,
   "id": "0730b7de-6cf9-4a47-98df-59081d55b677",
   "metadata": {},
   "outputs": [
    {
     "data": {
      "text/plain": [
       "['__bool__',\n",
       " '__class__',\n",
       " '__delattr__',\n",
       " '__delitem__',\n",
       " '__dir__',\n",
       " '__doc__',\n",
       " '__eq__',\n",
       " '__format__',\n",
       " '__ge__',\n",
       " '__getattribute__',\n",
       " '__getitem__',\n",
       " '__getstate__',\n",
       " '__gt__',\n",
       " '__hash__',\n",
       " '__init__',\n",
       " '__init_subclass__',\n",
       " '__iter__',\n",
       " '__le__',\n",
       " '__len__',\n",
       " '__lt__',\n",
       " '__module__',\n",
       " '__ne__',\n",
       " '__new__',\n",
       " '__pybind11_module_local_v5_gcc_libstdcpp_cxxabi1018__',\n",
       " '__reduce__',\n",
       " '__reduce_ex__',\n",
       " '__repr__',\n",
       " '__setattr__',\n",
       " '__setitem__',\n",
       " '__sizeof__',\n",
       " '__str__',\n",
       " '__subclasshook__',\n",
       " '_ipython_key_completions_',\n",
       " '_pybind11_conduit_v1_',\n",
       " 'attribute_dtypes',\n",
       " 'attributes',\n",
       " 'comment',\n",
       " 'contains_attribute',\n",
       " 'delete_attribute',\n",
       " 'get_attribute',\n",
       " 'items',\n",
       " 'iteration_flush',\n",
       " 'my_path',\n",
       " 'series_flush',\n",
       " 'set_attribute',\n",
       " 'set_comment']"
      ]
     },
     "execution_count": 43,
     "metadata": {},
     "output_type": "execute_result"
    }
   ],
   "source": [
    "dir(initial.particles)"
   ]
  },
  {
   "cell_type": "code",
   "execution_count": 47,
   "id": "1267dadd-9490-4bf9-9add-77a4d6c1909f",
   "metadata": {},
   "outputs": [
    {
     "data": {
      "text/plain": [
       "<openPMD.ParticleSpecies with 6 record(s) and 55 attribute(s)>"
      ]
     },
     "execution_count": 47,
     "metadata": {},
     "output_type": "execute_result"
    }
   ],
   "source": [
    "initial.particles[\"beam\"]"
   ]
  },
  {
   "cell_type": "code",
   "execution_count": 50,
   "id": "bf67d533-0140-41d7-b0a9-1adb5c3a2f1a",
   "metadata": {},
   "outputs": [
    {
     "data": {
      "text/plain": [
       "6"
      ]
     },
     "execution_count": 50,
     "metadata": {},
     "output_type": "execute_result"
    }
   ],
   "source": [
    "len(initial.particles[\"beam\"])"
   ]
  },
  {
   "cell_type": "code",
   "execution_count": 52,
   "id": "2b9dffa5-2481-4e90-9630-cd11c68337d4",
   "metadata": {},
   "outputs": [
    {
     "data": {
      "text/plain": [
       "[]"
      ]
     },
     "execution_count": 52,
     "metadata": {},
     "output_type": "execute_result"
    }
   ],
   "source": [
    "initial.particles.attributes"
   ]
  },
  {
   "cell_type": "code",
   "execution_count": 57,
   "id": "87c9a261-11db-405f-9ad4-c19b7d9a5513",
   "metadata": {},
   "outputs": [
    {
     "data": {
      "text/plain": [
       "<openPMD.ParticleSpecies with 6 record(s) and 55 attribute(s)>"
      ]
     },
     "execution_count": 57,
     "metadata": {},
     "output_type": "execute_result"
    }
   ],
   "source": [
    "initial.particles[\"beam\"]"
   ]
  },
  {
   "cell_type": "code",
   "execution_count": 58,
   "id": "6babaaa6-7420-44c1-9b26-640ac733a124",
   "metadata": {},
   "outputs": [
    {
     "data": {
      "text/plain": [
       "['alpha_t',\n",
       " 'alpha_x',\n",
       " 'alpha_y',\n",
       " 'beta_gamma_ref',\n",
       " 'beta_ref',\n",
       " 'beta_t',\n",
       " 'beta_x',\n",
       " 'beta_y',\n",
       " 'charge_C',\n",
       " 'charge_ref',\n",
       " 'dispersion_px',\n",
       " 'dispersion_py',\n",
       " 'dispersion_x',\n",
       " 'dispersion_y',\n",
       " 'emittance_t',\n",
       " 'emittance_tn',\n",
       " 'emittance_x',\n",
       " 'emittance_xn',\n",
       " 'emittance_y',\n",
       " 'emittance_yn',\n",
       " 'gamma_ref',\n",
       " 'mass_ref',\n",
       " 'pt_max',\n",
       " 'pt_mean',\n",
       " 'pt_min',\n",
       " 'pt_ref',\n",
       " 'px_max',\n",
       " 'px_mean',\n",
       " 'px_min',\n",
       " 'px_ref',\n",
       " 'py_max',\n",
       " 'py_mean',\n",
       " 'py_min',\n",
       " 'py_ref',\n",
       " 'pz_ref',\n",
       " 's_ref',\n",
       " 'sig_pt',\n",
       " 'sig_px',\n",
       " 'sig_py',\n",
       " 'sig_t',\n",
       " 'sig_x',\n",
       " 'sig_y',\n",
       " 't_max',\n",
       " 't_mean',\n",
       " 't_min',\n",
       " 't_ref',\n",
       " 'x_max',\n",
       " 'x_mean',\n",
       " 'x_min',\n",
       " 'x_ref',\n",
       " 'y_max',\n",
       " 'y_mean',\n",
       " 'y_min',\n",
       " 'y_ref',\n",
       " 'z_ref']"
      ]
     },
     "execution_count": 58,
     "metadata": {},
     "output_type": "execute_result"
    }
   ],
   "source": [
    "initial.particles[\"beam\"].attributes"
   ]
  },
  {
   "cell_type": "code",
   "execution_count": 63,
   "id": "c732b2e3-62bb-446a-8559-d9fd4ca0f1d8",
   "metadata": {},
   "outputs": [
    {
     "data": {
      "text/plain": [
       "['__bool__',\n",
       " '__class__',\n",
       " '__delattr__',\n",
       " '__delitem__',\n",
       " '__dir__',\n",
       " '__doc__',\n",
       " '__eq__',\n",
       " '__format__',\n",
       " '__ge__',\n",
       " '__getattribute__',\n",
       " '__getitem__',\n",
       " '__getstate__',\n",
       " '__gt__',\n",
       " '__hash__',\n",
       " '__init__',\n",
       " '__init_subclass__',\n",
       " '__iter__',\n",
       " '__le__',\n",
       " '__len__',\n",
       " '__lt__',\n",
       " '__module__',\n",
       " '__ne__',\n",
       " '__new__',\n",
       " '__pybind11_module_local_v5_gcc_libstdcpp_cxxabi1018__',\n",
       " '__reduce__',\n",
       " '__reduce_ex__',\n",
       " '__repr__',\n",
       " '__setattr__',\n",
       " '__setitem__',\n",
       " '__setstate__',\n",
       " '__sizeof__',\n",
       " '__str__',\n",
       " '__subclasshook__',\n",
       " '_ipython_key_completions_',\n",
       " '_pybind11_conduit_v1_',\n",
       " 'attribute_dtypes',\n",
       " 'attributes',\n",
       " 'comment',\n",
       " 'contains_attribute',\n",
       " 'delete_attribute',\n",
       " 'get_attribute',\n",
       " 'items',\n",
       " 'iteration_flush',\n",
       " 'my_path',\n",
       " 'particle_patches',\n",
       " 'series_flush',\n",
       " 'set_attribute',\n",
       " 'set_comment',\n",
       " 'to_dask',\n",
       " 'to_df']"
      ]
     },
     "execution_count": 63,
     "metadata": {},
     "output_type": "execute_result"
    }
   ],
   "source": [
    "dir(initial.particles[\"beam\"])"
   ]
  },
  {
   "cell_type": "code",
   "execution_count": 62,
   "id": "cfde32eb-d113-4cda-b0a0-c5b183c3b259",
   "metadata": {},
   "outputs": [
    {
     "ename": "IndexError",
     "evalue": "Key 'beta_ref' does not exist (read-only).",
     "output_type": "error",
     "traceback": [
      "\u001b[31m---------------------------------------------------------------------------\u001b[39m",
      "\u001b[31mIndexError\u001b[39m                                Traceback (most recent call last)",
      "\u001b[36mCell\u001b[39m\u001b[36m \u001b[39m\u001b[32mIn[62]\u001b[39m\u001b[32m, line 1\u001b[39m\n\u001b[32m----> \u001b[39m\u001b[32m1\u001b[39m \u001b[43minitial\u001b[49m\u001b[43m.\u001b[49m\u001b[43mparticles\u001b[49m\u001b[43m[\u001b[49m\u001b[33;43m\"\u001b[39;49m\u001b[33;43mbeta_ref\u001b[39;49m\u001b[33;43m\"\u001b[39;49m\u001b[43m]\u001b[49m\n",
      "\u001b[31mIndexError\u001b[39m: Key 'beta_ref' does not exist (read-only)."
     ]
    }
   ],
   "source": []
  },
  {
   "cell_type": "code",
   "execution_count": 64,
   "id": "c2aa61b5-0dd5-4912-9c55-34a3f8b1d449",
   "metadata": {},
   "outputs": [
    {
     "data": {
      "text/plain": [
       "0.9999999673766812"
      ]
     },
     "execution_count": 64,
     "metadata": {},
     "output_type": "execute_result"
    }
   ],
   "source": [
    "initial.particles[\"beam\"].get_attribute(\"beta_ref\")"
   ]
  },
  {
   "cell_type": "code",
   "execution_count": 65,
   "id": "cc53e78e-7b4b-43c4-a377-75ae190eb543",
   "metadata": {},
   "outputs": [],
   "source": [
    "df = initial.particles[\"beam\"].to_df()"
   ]
  },
  {
   "cell_type": "code",
   "execution_count": 66,
   "id": "b743d72a-011f-481c-8714-2c98ca721fd6",
   "metadata": {},
   "outputs": [
    {
     "data": {
      "text/html": [
       "<div>\n",
       "<style scoped>\n",
       "    .dataframe tbody tr th:only-of-type {\n",
       "        vertical-align: middle;\n",
       "    }\n",
       "\n",
       "    .dataframe tbody tr th {\n",
       "        vertical-align: top;\n",
       "    }\n",
       "\n",
       "    .dataframe thead th {\n",
       "        text-align: right;\n",
       "    }\n",
       "</style>\n",
       "<table border=\"1\" class=\"dataframe\">\n",
       "  <thead>\n",
       "    <tr style=\"text-align: right;\">\n",
       "      <th></th>\n",
       "      <th>id</th>\n",
       "      <th>momentum_t</th>\n",
       "      <th>momentum_x</th>\n",
       "      <th>momentum_y</th>\n",
       "      <th>position_t</th>\n",
       "      <th>position_x</th>\n",
       "      <th>position_y</th>\n",
       "      <th>positionOffset_t</th>\n",
       "      <th>positionOffset_x</th>\n",
       "      <th>positionOffset_y</th>\n",
       "      <th>qm</th>\n",
       "      <th>weighting</th>\n",
       "    </tr>\n",
       "    <tr>\n",
       "      <th>row</th>\n",
       "      <th></th>\n",
       "      <th></th>\n",
       "      <th></th>\n",
       "      <th></th>\n",
       "      <th></th>\n",
       "      <th></th>\n",
       "      <th></th>\n",
       "      <th></th>\n",
       "      <th></th>\n",
       "      <th></th>\n",
       "      <th></th>\n",
       "      <th></th>\n",
       "    </tr>\n",
       "  </thead>\n",
       "  <tbody>\n",
       "    <tr>\n",
       "      <th>0</th>\n",
       "      <td>9223372036871553024</td>\n",
       "      <td>0.001877</td>\n",
       "      <td>2.348681e-06</td>\n",
       "      <td>-0.000032</td>\n",
       "      <td>0.001850</td>\n",
       "      <td>0.000005</td>\n",
       "      <td>-0.000002</td>\n",
       "      <td>0.0</td>\n",
       "      <td>0.0</td>\n",
       "      <td>0.0</td>\n",
       "      <td>-1.758820e+11</td>\n",
       "      <td>624150.907446</td>\n",
       "    </tr>\n",
       "    <tr>\n",
       "      <th>1</th>\n",
       "      <td>9223372036888330240</td>\n",
       "      <td>0.001123</td>\n",
       "      <td>6.966966e-05</td>\n",
       "      <td>-0.000019</td>\n",
       "      <td>-0.000318</td>\n",
       "      <td>0.000088</td>\n",
       "      <td>-0.000038</td>\n",
       "      <td>0.0</td>\n",
       "      <td>0.0</td>\n",
       "      <td>0.0</td>\n",
       "      <td>-1.758820e+11</td>\n",
       "      <td>624150.907446</td>\n",
       "    </tr>\n",
       "    <tr>\n",
       "      <th>2</th>\n",
       "      <td>9223372036905107456</td>\n",
       "      <td>-0.001088</td>\n",
       "      <td>8.527520e-05</td>\n",
       "      <td>0.000041</td>\n",
       "      <td>-0.001769</td>\n",
       "      <td>0.000112</td>\n",
       "      <td>-0.000067</td>\n",
       "      <td>0.0</td>\n",
       "      <td>0.0</td>\n",
       "      <td>0.0</td>\n",
       "      <td>-1.758820e+11</td>\n",
       "      <td>624150.907446</td>\n",
       "    </tr>\n",
       "    <tr>\n",
       "      <th>3</th>\n",
       "      <td>9223372036921884672</td>\n",
       "      <td>-0.001677</td>\n",
       "      <td>8.325196e-07</td>\n",
       "      <td>-0.000012</td>\n",
       "      <td>0.001184</td>\n",
       "      <td>0.000065</td>\n",
       "      <td>0.000043</td>\n",
       "      <td>0.0</td>\n",
       "      <td>0.0</td>\n",
       "      <td>0.0</td>\n",
       "      <td>-1.758820e+11</td>\n",
       "      <td>624150.907446</td>\n",
       "    </tr>\n",
       "    <tr>\n",
       "      <th>4</th>\n",
       "      <td>9223372036938661888</td>\n",
       "      <td>0.001993</td>\n",
       "      <td>-5.706154e-05</td>\n",
       "      <td>0.000079</td>\n",
       "      <td>-0.000382</td>\n",
       "      <td>-0.000068</td>\n",
       "      <td>-0.000124</td>\n",
       "      <td>0.0</td>\n",
       "      <td>0.0</td>\n",
       "      <td>0.0</td>\n",
       "      <td>-1.758820e+11</td>\n",
       "      <td>624150.907446</td>\n",
       "    </tr>\n",
       "    <tr>\n",
       "      <th>...</th>\n",
       "      <td>...</td>\n",
       "      <td>...</td>\n",
       "      <td>...</td>\n",
       "      <td>...</td>\n",
       "      <td>...</td>\n",
       "      <td>...</td>\n",
       "      <td>...</td>\n",
       "      <td>...</td>\n",
       "      <td>...</td>\n",
       "      <td>...</td>\n",
       "      <td>...</td>\n",
       "      <td>...</td>\n",
       "    </tr>\n",
       "    <tr>\n",
       "      <th>9995</th>\n",
       "      <td>9223372204559826944</td>\n",
       "      <td>-0.002437</td>\n",
       "      <td>5.250268e-05</td>\n",
       "      <td>0.000007</td>\n",
       "      <td>-0.001003</td>\n",
       "      <td>-0.000004</td>\n",
       "      <td>-0.000053</td>\n",
       "      <td>0.0</td>\n",
       "      <td>0.0</td>\n",
       "      <td>0.0</td>\n",
       "      <td>-1.758820e+11</td>\n",
       "      <td>624150.907446</td>\n",
       "    </tr>\n",
       "    <tr>\n",
       "      <th>9996</th>\n",
       "      <td>9223372204576604160</td>\n",
       "      <td>0.002744</td>\n",
       "      <td>2.293072e-05</td>\n",
       "      <td>0.000021</td>\n",
       "      <td>0.001140</td>\n",
       "      <td>0.000077</td>\n",
       "      <td>-0.000048</td>\n",
       "      <td>0.0</td>\n",
       "      <td>0.0</td>\n",
       "      <td>0.0</td>\n",
       "      <td>-1.758820e+11</td>\n",
       "      <td>624150.907446</td>\n",
       "    </tr>\n",
       "    <tr>\n",
       "      <th>9997</th>\n",
       "      <td>9223372204593381376</td>\n",
       "      <td>-0.001332</td>\n",
       "      <td>6.460116e-05</td>\n",
       "      <td>-0.000053</td>\n",
       "      <td>-0.001897</td>\n",
       "      <td>0.000121</td>\n",
       "      <td>0.000069</td>\n",
       "      <td>0.0</td>\n",
       "      <td>0.0</td>\n",
       "      <td>0.0</td>\n",
       "      <td>-1.758820e+11</td>\n",
       "      <td>624150.907446</td>\n",
       "    </tr>\n",
       "    <tr>\n",
       "      <th>9998</th>\n",
       "      <td>9223372204610158592</td>\n",
       "      <td>0.002579</td>\n",
       "      <td>2.320139e-05</td>\n",
       "      <td>-0.000106</td>\n",
       "      <td>0.000255</td>\n",
       "      <td>0.000052</td>\n",
       "      <td>0.000129</td>\n",
       "      <td>0.0</td>\n",
       "      <td>0.0</td>\n",
       "      <td>0.0</td>\n",
       "      <td>-1.758820e+11</td>\n",
       "      <td>624150.907446</td>\n",
       "    </tr>\n",
       "    <tr>\n",
       "      <th>9999</th>\n",
       "      <td>9223372204626935808</td>\n",
       "      <td>0.000194</td>\n",
       "      <td>1.682316e-05</td>\n",
       "      <td>-0.000094</td>\n",
       "      <td>-0.000238</td>\n",
       "      <td>-0.000028</td>\n",
       "      <td>0.000179</td>\n",
       "      <td>0.0</td>\n",
       "      <td>0.0</td>\n",
       "      <td>0.0</td>\n",
       "      <td>-1.758820e+11</td>\n",
       "      <td>624150.907446</td>\n",
       "    </tr>\n",
       "  </tbody>\n",
       "</table>\n",
       "<p>10000 rows × 12 columns</p>\n",
       "</div>"
      ],
      "text/plain": [
       "                       id  momentum_t    momentum_x  momentum_y  position_t  \\\n",
       "row                                                                           \n",
       "0     9223372036871553024    0.001877  2.348681e-06   -0.000032    0.001850   \n",
       "1     9223372036888330240    0.001123  6.966966e-05   -0.000019   -0.000318   \n",
       "2     9223372036905107456   -0.001088  8.527520e-05    0.000041   -0.001769   \n",
       "3     9223372036921884672   -0.001677  8.325196e-07   -0.000012    0.001184   \n",
       "4     9223372036938661888    0.001993 -5.706154e-05    0.000079   -0.000382   \n",
       "...                   ...         ...           ...         ...         ...   \n",
       "9995  9223372204559826944   -0.002437  5.250268e-05    0.000007   -0.001003   \n",
       "9996  9223372204576604160    0.002744  2.293072e-05    0.000021    0.001140   \n",
       "9997  9223372204593381376   -0.001332  6.460116e-05   -0.000053   -0.001897   \n",
       "9998  9223372204610158592    0.002579  2.320139e-05   -0.000106    0.000255   \n",
       "9999  9223372204626935808    0.000194  1.682316e-05   -0.000094   -0.000238   \n",
       "\n",
       "      position_x  position_y  positionOffset_t  positionOffset_x  \\\n",
       "row                                                                \n",
       "0       0.000005   -0.000002               0.0               0.0   \n",
       "1       0.000088   -0.000038               0.0               0.0   \n",
       "2       0.000112   -0.000067               0.0               0.0   \n",
       "3       0.000065    0.000043               0.0               0.0   \n",
       "4      -0.000068   -0.000124               0.0               0.0   \n",
       "...          ...         ...               ...               ...   \n",
       "9995   -0.000004   -0.000053               0.0               0.0   \n",
       "9996    0.000077   -0.000048               0.0               0.0   \n",
       "9997    0.000121    0.000069               0.0               0.0   \n",
       "9998    0.000052    0.000129               0.0               0.0   \n",
       "9999   -0.000028    0.000179               0.0               0.0   \n",
       "\n",
       "      positionOffset_y            qm      weighting  \n",
       "row                                                  \n",
       "0                  0.0 -1.758820e+11  624150.907446  \n",
       "1                  0.0 -1.758820e+11  624150.907446  \n",
       "2                  0.0 -1.758820e+11  624150.907446  \n",
       "3                  0.0 -1.758820e+11  624150.907446  \n",
       "4                  0.0 -1.758820e+11  624150.907446  \n",
       "...                ...           ...            ...  \n",
       "9995               0.0 -1.758820e+11  624150.907446  \n",
       "9996               0.0 -1.758820e+11  624150.907446  \n",
       "9997               0.0 -1.758820e+11  624150.907446  \n",
       "9998               0.0 -1.758820e+11  624150.907446  \n",
       "9999               0.0 -1.758820e+11  624150.907446  \n",
       "\n",
       "[10000 rows x 12 columns]"
      ]
     },
     "execution_count": 66,
     "metadata": {},
     "output_type": "execute_result"
    }
   ],
   "source": [
    "df"
   ]
  },
  {
   "cell_type": "code",
   "execution_count": 67,
   "id": "963357b7-6c57-460d-9891-85b6e8c70ae3",
   "metadata": {},
   "outputs": [
    {
     "data": {
      "text/plain": [
       "row\n",
       "0       0.001877\n",
       "1       0.001123\n",
       "2      -0.001088\n",
       "3      -0.001677\n",
       "4       0.001993\n",
       "          ...   \n",
       "9995   -0.002437\n",
       "9996    0.002744\n",
       "9997   -0.001332\n",
       "9998    0.002579\n",
       "9999    0.000194\n",
       "Name: momentum_t, Length: 10000, dtype: float64"
      ]
     },
     "execution_count": 67,
     "metadata": {},
     "output_type": "execute_result"
    }
   ],
   "source": [
    "df['momentum_t']"
   ]
  },
  {
   "cell_type": "code",
   "execution_count": 68,
   "id": "74a47c7e-3306-4663-a1d6-b7e2ae681b10",
   "metadata": {},
   "outputs": [
    {
     "data": {
      "text/plain": [
       "2.8521229724098713"
      ]
     },
     "execution_count": 68,
     "metadata": {},
     "output_type": "execute_result"
    }
   ],
   "source": [
    "initial.particles[\"beam\"].get_attribute(\"beta_x\")"
   ]
  },
  {
   "cell_type": "code",
   "execution_count": 71,
   "id": "253631bc-da48-4d12-833f-a83f0d9f50dd",
   "metadata": {},
   "outputs": [
    {
     "data": {
      "text/plain": [
       "<pybind11_builtins.iterator at 0x7f3da740aef0>"
      ]
     },
     "execution_count": 71,
     "metadata": {},
     "output_type": "execute_result"
    }
   ],
   "source": [
    "initial.particles[\"beam\"].items()"
   ]
  },
  {
   "cell_type": "code",
   "execution_count": 72,
   "id": "a3874803-e99a-455f-869b-40673ba1f86c",
   "metadata": {},
   "outputs": [
    {
     "data": {
      "text/plain": [
       "[('id', <openPMD.Record of 1 component(s) and 3 attribute(s)>),\n",
       " ('momentum', <openPMD.Record of 3 component(s) and 2 attribute(s)>),\n",
       " ('position', <openPMD.Record of 3 component(s) and 2 attribute(s)>),\n",
       " ('positionOffset', <openPMD.Record of 3 component(s) and 2 attribute(s)>),\n",
       " ('qm', <openPMD.Record of 1 component(s) and 3 attribute(s)>),\n",
       " ('weighting', <openPMD.Record of 1 component(s) and 3 attribute(s)>)]"
      ]
     },
     "execution_count": 72,
     "metadata": {},
     "output_type": "execute_result"
    }
   ],
   "source": [
    "list(initial.particles[\"beam\"].items())"
   ]
  },
  {
   "cell_type": "code",
   "execution_count": 73,
   "id": "0b0aa139-acc9-491e-b5a1-c512a5244d51",
   "metadata": {},
   "outputs": [
    {
     "data": {
      "text/plain": [
       "-3.5234345684930795e-07"
      ]
     },
     "execution_count": 73,
     "metadata": {},
     "output_type": "execute_result"
    }
   ],
   "source": [
    "initial.particles[\"beam\"].get_attribute(\"x_mean\")"
   ]
  },
  {
   "cell_type": "code",
   "execution_count": 74,
   "id": "0e997d52-aef2-4fa4-9dd5-5663c2a9c475",
   "metadata": {},
   "outputs": [
    {
     "data": {
      "text/plain": [
       "7.5451170601897e-05"
      ]
     },
     "execution_count": 74,
     "metadata": {},
     "output_type": "execute_result"
    }
   ],
   "source": [
    "initial.particles[\"beam\"].get_attribute(\"sig_x\")"
   ]
  },
  {
   "cell_type": "code",
   "execution_count": 75,
   "id": "f21a46cd-4ba2-4a46-9964-a17f20a4b0c3",
   "metadata": {},
   "outputs": [],
   "source": [
    "import numpy as np"
   ]
  },
  {
   "cell_type": "code",
   "execution_count": 77,
   "id": "1b12af49-28fe-4bc3-a05f-6c7ef6d04989",
   "metadata": {},
   "outputs": [
    {
     "data": {
      "text/plain": [
       "np.float64(7.545494344339132e-05)"
      ]
     },
     "execution_count": 77,
     "metadata": {},
     "output_type": "execute_result"
    }
   ],
   "source": [
    "df['position_x'].std()"
   ]
  },
  {
   "cell_type": "code",
   "execution_count": 78,
   "id": "1389d4be-173f-4a46-b71d-5154adbc8aee",
   "metadata": {},
   "outputs": [],
   "source": [
    "x = df['position_x']"
   ]
  },
  {
   "cell_type": "code",
   "execution_count": 80,
   "id": "8d4b7817-6419-4243-adf5-736fc3e59293",
   "metadata": {},
   "outputs": [
    {
     "data": {
      "text/plain": [
       "np.float64(7.545494344339132e-05)"
      ]
     },
     "execution_count": 80,
     "metadata": {},
     "output_type": "execute_result"
    }
   ],
   "source": [
    "x.std()"
   ]
  },
  {
   "cell_type": "code",
   "execution_count": 81,
   "id": "386f25fb-4765-4708-8bb1-7e394307ee11",
   "metadata": {},
   "outputs": [
    {
     "data": {
      "text/plain": [
       "np.float64(7.545117060189576e-05)"
      ]
     },
     "execution_count": 81,
     "metadata": {},
     "output_type": "execute_result"
    }
   ],
   "source": [
    "moment(df['position_x'], moment=2)**0.5"
   ]
  },
  {
   "cell_type": "code",
   "execution_count": 82,
   "id": "73f67741-2b78-462c-a34c-0e5b5d619751",
   "metadata": {},
   "outputs": [
    {
     "data": {
      "text/plain": [
       "(10000, 12)"
      ]
     },
     "execution_count": 82,
     "metadata": {},
     "output_type": "execute_result"
    }
   ],
   "source": [
    "df.shape"
   ]
  },
  {
   "cell_type": "code",
   "execution_count": 84,
   "id": "d46f33e4-ac86-4a89-88b3-f331456f5174",
   "metadata": {},
   "outputs": [
    {
     "data": {
      "text/plain": [
       "np.float64(7.545494344339132e-05)"
      ]
     },
     "execution_count": 84,
     "metadata": {},
     "output_type": "execute_result"
    }
   ],
   "source": [
    "N = df.shape[0]\n",
    "(moment(df['position_x'], order=2)*N/(N-1))**0.5"
   ]
  },
  {
   "cell_type": "code",
   "execution_count": 85,
   "id": "fc45ce92-a82d-4edd-865c-f93c0d221045",
   "metadata": {},
   "outputs": [],
   "source": [
    "# The scipy.stats.moments uses population weight instead of sample weight"
   ]
  },
  {
   "cell_type": "code",
   "execution_count": null,
   "id": "456f55e3-aa3d-4a13-afb0-e6eded2cce38",
   "metadata": {},
   "outputs": [],
   "source": []
  }
 ],
 "metadata": {
  "kernelspec": {
   "display_name": "Python 3 (ipykernel)",
   "language": "python",
   "name": "python3"
  },
  "language_info": {
   "codemirror_mode": {
    "name": "ipython",
    "version": 3
   },
   "file_extension": ".py",
   "mimetype": "text/x-python",
   "name": "python",
   "nbconvert_exporter": "python",
   "pygments_lexer": "ipython3",
   "version": "3.13.2"
  }
 },
 "nbformat": 4,
 "nbformat_minor": 5
}
